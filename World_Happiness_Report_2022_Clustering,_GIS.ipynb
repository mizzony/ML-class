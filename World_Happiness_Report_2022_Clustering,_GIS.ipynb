{
  "metadata": {
    "kernelspec": {
      "language": "python",
      "display_name": "Python 3",
      "name": "python3"
    },
    "language_info": {
      "pygments_lexer": "ipython3",
      "nbconvert_exporter": "python",
      "version": "3.6.4",
      "file_extension": ".py",
      "codemirror_mode": {
        "name": "ipython",
        "version": 3
      },
      "name": "python",
      "mimetype": "text/x-python"
    },
    "colab": {
      "name": "World Happiness Report 2022 - Clustering, GIS",
      "provenance": [],
      "include_colab_link": true
    }
  },
  "nbformat_minor": 0,
  "nbformat": 4,
  "cells": [
    {
      "cell_type": "markdown",
      "metadata": {
        "id": "view-in-github",
        "colab_type": "text"
      },
      "source": [
        "<a href=\"https://colab.research.google.com/github/mizzony/ML-class/blob/main/World_Happiness_Report_2022_Clustering%2C_GIS.ipynb\" target=\"_parent\"><img src=\"https://colab.research.google.com/assets/colab-badge.svg\" alt=\"Open In Colab\"/></a>"
      ]
    },
    {
      "source": [
        "# IMPORTANT: RUN THIS CELL IN ORDER TO IMPORT YOUR KAGGLE DATA SOURCES,\n",
        "# THEN FEEL FREE TO DELETE THIS CELL.\n",
        "# NOTE: THIS NOTEBOOK ENVIRONMENT DIFFERS FROM KAGGLE'S PYTHON\n",
        "# ENVIRONMENT SO THERE MAY BE MISSING LIBRARIES USED BY YOUR\n",
        "# NOTEBOOK.\n",
        "import kagglehub\n",
        "ajaypalsinghlo_world_happiness_report_2022_path = kagglehub.dataset_download('ajaypalsinghlo/world-happiness-report-2022')\n",
        "\n",
        "print('Data source import complete.')\n"
      ],
      "metadata": {
        "id": "B8uEGnyTXkhJ"
      },
      "cell_type": "code",
      "outputs": [],
      "execution_count": null
    },
    {
      "cell_type": "markdown",
      "source": [
        "# Import Libraries and Load Data"
      ],
      "metadata": {
        "id": "jlXTGtEqXkhM"
      }
    },
    {
      "cell_type": "markdown",
      "source": [
        "# World Happiness Report 2022 - Clustering\n",
        "The World Happiness Report is a landmark survey of the state of global happiness. The reports review the state of happiness in the world today and show how the new science of happiness explains personal and national variations in happiness.\n",
        "\n",
        "For more information about the dataset use the following Kaggle link:<br>\n",
        "https://www.kaggle.com/datasets/ajaypalsinghlo/world-happiness-report-2022\n",
        "\n",
        "![happy.jpg](attachment:62a8caa4-85f7-4ccd-9c89-858acb5de86e.jpg)<br>\n",
        "**\"Happiness is not a goal...it's a by-product of a life well-lived.\"** - Eleanor Roosevelt"
      ],
      "metadata": {
        "id": "7l0DnA_9XkhN"
      }
    },
    {
      "cell_type": "markdown",
      "source": [
        "# Import Libraries and Load Data"
      ],
      "metadata": {
        "id": "2IYuopk6XkhN"
      }
    },
    {
      "cell_type": "code",
      "source": [
        "# import libraries\n",
        "import numpy as np\n",
        "import pandas as pd\n",
        "import seaborn as sns\n",
        "import matplotlib.pyplot as plt\n",
        "\n",
        "from sklearn.cluster import KMeans\n",
        "from sklearn.metrics import silhouette_score\n",
        "\n",
        "import os\n",
        "for dirname, _, filenames in os.walk('/kaggle/input'): # get file path\n",
        "    for filename in filenames:\n",
        "        print(os.path.join(dirname, filename))"
      ],
      "metadata": {
        "_uuid": "8f2839f25d086af736a60e9eeb907d3b93b6e0e5",
        "_cell_guid": "b1076dfc-b9ad-4769-8c92-a6c4dae69d19",
        "execution": {
          "iopub.status.busy": "2022-12-31T15:23:39.2534Z",
          "iopub.execute_input": "2022-12-31T15:23:39.254448Z",
          "iopub.status.idle": "2022-12-31T15:23:39.747616Z",
          "shell.execute_reply.started": "2022-12-31T15:23:39.254358Z",
          "shell.execute_reply": "2022-12-31T15:23:39.746521Z"
        },
        "trusted": true,
        "id": "wFQLM39GXkhO"
      },
      "execution_count": null,
      "outputs": []
    },
    {
      "cell_type": "code",
      "source": [
        "# load data\n",
        "df = pd.read_csv(\"/kaggle/input/world-happiness-report-2022/World Happiness Report 2022.csv\")"
      ],
      "metadata": {
        "execution": {
          "iopub.status.busy": "2022-12-31T15:23:39.752543Z",
          "iopub.execute_input": "2022-12-31T15:23:39.753052Z",
          "iopub.status.idle": "2022-12-31T15:23:39.762746Z",
          "shell.execute_reply.started": "2022-12-31T15:23:39.75302Z",
          "shell.execute_reply": "2022-12-31T15:23:39.760455Z"
        },
        "trusted": true,
        "id": "FurVqcxNXkhO"
      },
      "execution_count": null,
      "outputs": []
    },
    {
      "cell_type": "markdown",
      "source": [
        "# EDA - Exploratory Data Analysis"
      ],
      "metadata": {
        "id": "tySJeSn4XkhO"
      }
    },
    {
      "cell_type": "code",
      "source": [
        "df.head() #first 5 entries"
      ],
      "metadata": {
        "execution": {
          "iopub.status.busy": "2022-12-31T15:23:39.76426Z",
          "iopub.execute_input": "2022-12-31T15:23:39.765105Z",
          "iopub.status.idle": "2022-12-31T15:23:39.789362Z",
          "shell.execute_reply.started": "2022-12-31T15:23:39.765066Z",
          "shell.execute_reply": "2022-12-31T15:23:39.787818Z"
        },
        "trusted": true,
        "id": "mYVPdE32XkhO"
      },
      "execution_count": null,
      "outputs": []
    },
    {
      "cell_type": "code",
      "source": [
        "df.tail()"
      ],
      "metadata": {
        "execution": {
          "iopub.status.busy": "2022-12-31T15:23:39.79211Z",
          "iopub.execute_input": "2022-12-31T15:23:39.792444Z",
          "iopub.status.idle": "2022-12-31T15:23:39.814447Z",
          "shell.execute_reply.started": "2022-12-31T15:23:39.792415Z",
          "shell.execute_reply": "2022-12-31T15:23:39.812394Z"
        },
        "trusted": true,
        "id": "NBnTwzSeXkhP"
      },
      "execution_count": null,
      "outputs": []
    },
    {
      "cell_type": "code",
      "source": [
        "df.info()  # infos about the samples, features and datatypes"
      ],
      "metadata": {
        "execution": {
          "iopub.status.busy": "2022-12-31T15:23:39.816161Z",
          "iopub.execute_input": "2022-12-31T15:23:39.816483Z",
          "iopub.status.idle": "2022-12-31T15:23:39.836288Z",
          "shell.execute_reply.started": "2022-12-31T15:23:39.816456Z",
          "shell.execute_reply": "2022-12-31T15:23:39.83496Z"
        },
        "trusted": true,
        "id": "UzqUYs1iXkhP"
      },
      "execution_count": null,
      "outputs": []
    },
    {
      "cell_type": "code",
      "source": [
        "df.isnull().sum() # checking missing values"
      ],
      "metadata": {
        "execution": {
          "iopub.status.busy": "2022-12-31T15:23:39.837526Z",
          "iopub.execute_input": "2022-12-31T15:23:39.837834Z",
          "iopub.status.idle": "2022-12-31T15:23:39.852039Z",
          "shell.execute_reply.started": "2022-12-31T15:23:39.837806Z",
          "shell.execute_reply": "2022-12-31T15:23:39.850763Z"
        },
        "trusted": true,
        "id": "ic5q4qBXXkhP"
      },
      "execution_count": null,
      "outputs": []
    },
    {
      "cell_type": "markdown",
      "source": [
        "We have 146 samples, 12 features and no missing values. Let's check statistical infos and correlation between features."
      ],
      "metadata": {
        "id": "SbSi1NhCXkhP"
      }
    },
    {
      "cell_type": "code",
      "source": [
        "df.describe() # statistical infos of the columns"
      ],
      "metadata": {
        "execution": {
          "iopub.status.busy": "2022-12-31T15:23:39.853339Z",
          "iopub.execute_input": "2022-12-31T15:23:39.853717Z",
          "iopub.status.idle": "2022-12-31T15:23:39.901462Z",
          "shell.execute_reply.started": "2022-12-31T15:23:39.853681Z",
          "shell.execute_reply": "2022-12-31T15:23:39.900537Z"
        },
        "trusted": true,
        "id": "OMIdRzkMXkhQ"
      },
      "execution_count": null,
      "outputs": []
    },
    {
      "cell_type": "code",
      "source": [
        "df.corr() # the correlation between the columns"
      ],
      "metadata": {
        "execution": {
          "iopub.status.busy": "2022-12-31T15:23:39.902482Z",
          "iopub.execute_input": "2022-12-31T15:23:39.902891Z",
          "iopub.status.idle": "2022-12-31T15:23:39.927068Z",
          "shell.execute_reply.started": "2022-12-31T15:23:39.902852Z",
          "shell.execute_reply": "2022-12-31T15:23:39.925368Z"
        },
        "trusted": true,
        "id": "Fm2Y9XUnXkhQ"
      },
      "execution_count": null,
      "outputs": []
    },
    {
      "cell_type": "code",
      "source": [
        "# Correlation of the features shown in a heatmap\n",
        "plt.figure(figsize=(15,15))\n",
        "sns.heatmap(df.corr(),annot=True);"
      ],
      "metadata": {
        "execution": {
          "iopub.status.busy": "2022-12-31T15:23:39.928679Z",
          "iopub.execute_input": "2022-12-31T15:23:39.929073Z",
          "iopub.status.idle": "2022-12-31T15:23:40.726354Z",
          "shell.execute_reply.started": "2022-12-31T15:23:39.929038Z",
          "shell.execute_reply": "2022-12-31T15:23:40.725501Z"
        },
        "trusted": true,
        "id": "Zst6gPHgXkhQ"
      },
      "execution_count": null,
      "outputs": []
    },
    {
      "cell_type": "code",
      "source": [
        "# Names and Number of Countrys\n",
        "print(\"Country Names:\\n\", df.Country.unique())\n",
        "print(\"\\nNumber of Countrys:\", df.Country.nunique())"
      ],
      "metadata": {
        "_kg_hide-output": true,
        "execution": {
          "iopub.status.busy": "2022-12-31T15:23:40.727635Z",
          "iopub.execute_input": "2022-12-31T15:23:40.728571Z",
          "iopub.status.idle": "2022-12-31T15:23:40.734481Z",
          "shell.execute_reply.started": "2022-12-31T15:23:40.728519Z",
          "shell.execute_reply": "2022-12-31T15:23:40.733476Z"
        },
        "_kg_hide-input": true,
        "trusted": true,
        "id": "wNBi_u79XkhQ"
      },
      "execution_count": null,
      "outputs": []
    },
    {
      "cell_type": "code",
      "source": [
        "country_name='Austria' # Change name to find your Countrys Rank\n",
        "country_rank = df[df['Country'] == country_name]['RANK'].values[0]\n",
        "print(f\"{country_name}'s Rank: {country_rank}\")"
      ],
      "metadata": {
        "execution": {
          "iopub.status.busy": "2022-12-31T15:23:40.735738Z",
          "iopub.execute_input": "2022-12-31T15:23:40.736124Z",
          "iopub.status.idle": "2022-12-31T15:23:40.751776Z",
          "shell.execute_reply.started": "2022-12-31T15:23:40.736097Z",
          "shell.execute_reply": "2022-12-31T15:23:40.750805Z"
        },
        "trusted": true,
        "id": "t-XoOZOGXkhQ"
      },
      "execution_count": null,
      "outputs": []
    },
    {
      "cell_type": "markdown",
      "source": [
        "## Data Visualization"
      ],
      "metadata": {
        "id": "KFzAY6SNXkhQ"
      }
    },
    {
      "cell_type": "code",
      "source": [
        "# show all numeric columns as boxplots except for RANK\n",
        "plt.figure(figsize=(20,15))\n",
        "sns.boxplot(data=df.iloc[:,1:])\n",
        "plt.xticks(rotation=90);"
      ],
      "metadata": {
        "execution": {
          "iopub.status.busy": "2022-12-31T15:23:40.753039Z",
          "iopub.execute_input": "2022-12-31T15:23:40.75351Z",
          "iopub.status.idle": "2022-12-31T15:23:41.103339Z",
          "shell.execute_reply.started": "2022-12-31T15:23:40.753462Z",
          "shell.execute_reply": "2022-12-31T15:23:41.102369Z"
        },
        "trusted": true,
        "id": "vJBxj5JAXkhR"
      },
      "execution_count": null,
      "outputs": []
    },
    {
      "cell_type": "code",
      "source": [
        "# Create a figure and a set of subplots with as many rows as needed and 4 columns\n",
        "num_rows = (len(df.columns) + 2) // 4  # Calculate the number of rows needed\n",
        "fig, axes = plt.subplots(nrows=num_rows, ncols=4, figsize=(20,15))\n",
        "\n",
        "# Create a histplot for each column in the DataFrame\n",
        "for i, col in enumerate(df.columns):\n",
        "    sns.histplot(data=df, x=col, ax=axes[i // 4, i % 4])\n",
        "plt.tight_layout()\n",
        "plt.show()"
      ],
      "metadata": {
        "execution": {
          "iopub.status.busy": "2022-12-31T15:23:41.10669Z",
          "iopub.execute_input": "2022-12-31T15:23:41.107004Z",
          "iopub.status.idle": "2022-12-31T15:23:44.201165Z",
          "shell.execute_reply.started": "2022-12-31T15:23:41.106978Z",
          "shell.execute_reply": "2022-12-31T15:23:44.200129Z"
        },
        "trusted": true,
        "id": "upQULJG_XkhR"
      },
      "execution_count": null,
      "outputs": []
    },
    {
      "cell_type": "markdown",
      "source": [
        "# Elbow Method and KMeans for Clustering"
      ],
      "metadata": {
        "id": "tWGyiKWwXkhR"
      }
    },
    {
      "cell_type": "code",
      "source": [
        "x=df.iloc[:, 2:] # get needed columns\n",
        "x.head() # show features"
      ],
      "metadata": {
        "execution": {
          "iopub.status.busy": "2022-12-31T15:23:44.202934Z",
          "iopub.execute_input": "2022-12-31T15:23:44.203324Z",
          "iopub.status.idle": "2022-12-31T15:23:44.223402Z",
          "shell.execute_reply.started": "2022-12-31T15:23:44.203287Z",
          "shell.execute_reply": "2022-12-31T15:23:44.222206Z"
        },
        "trusted": true,
        "id": "33hIA74nXkhR"
      },
      "execution_count": null,
      "outputs": []
    },
    {
      "cell_type": "markdown",
      "source": [
        "## Elbow Method"
      ],
      "metadata": {
        "id": "90LCKlZAXkhR"
      }
    },
    {
      "cell_type": "code",
      "source": [
        "# Elbow Method\n",
        "allscore = []\n",
        "allclusters = []\n",
        "distances = []\n",
        "\n",
        "# Score change according to cluster\n",
        "def clust(n):\n",
        "\n",
        "    for i in range(1,n+1):\n",
        "        i=i+1\n",
        "        # fit and predict model for range of clusters\n",
        "        model=KMeans(n_clusters=i)\n",
        "        model=model.fit(x)\n",
        "        pred=model.predict(x)\n",
        "        score=silhouette_score(x,pred)\n",
        "        distance=model.inertia_\n",
        "        print(\"Cluster\",i, \"score:\", score)\n",
        "        # add the scores and distances to the lists\n",
        "        allscore.append(score)\n",
        "        allclusters.append(i)\n",
        "        distances.append(distance)\n",
        "clust(10) # call function wit 10 clusters"
      ],
      "metadata": {
        "execution": {
          "iopub.status.busy": "2022-12-31T15:23:44.22497Z",
          "iopub.execute_input": "2022-12-31T15:23:44.225684Z",
          "iopub.status.idle": "2022-12-31T15:23:45.439219Z",
          "shell.execute_reply.started": "2022-12-31T15:23:44.225646Z",
          "shell.execute_reply": "2022-12-31T15:23:45.438281Z"
        },
        "trusted": true,
        "id": "nFW10ZHWXkhR"
      },
      "execution_count": null,
      "outputs": []
    },
    {
      "cell_type": "code",
      "source": [
        "# plot the results in a graph\n",
        "plt.xlabel(\"k\")\n",
        "plt.ylabel(\"distances\")\n",
        "plt.plot(allclusters,distances);"
      ],
      "metadata": {
        "execution": {
          "iopub.status.busy": "2022-12-31T15:23:45.442975Z",
          "iopub.execute_input": "2022-12-31T15:23:45.445035Z",
          "iopub.status.idle": "2022-12-31T15:23:45.604077Z",
          "shell.execute_reply.started": "2022-12-31T15:23:45.444992Z",
          "shell.execute_reply": "2022-12-31T15:23:45.602764Z"
        },
        "trusted": true,
        "id": "cp_0BfHxXkhR"
      },
      "execution_count": null,
      "outputs": []
    },
    {
      "cell_type": "markdown",
      "source": [
        "We can see that the graph is changing at the value of 3, so we use 3 clusters."
      ],
      "metadata": {
        "id": "In4MlFnsXkhR"
      }
    },
    {
      "cell_type": "markdown",
      "source": [
        "## KMeans"
      ],
      "metadata": {
        "id": "isPCUaBRXkhR"
      }
    },
    {
      "cell_type": "code",
      "source": [
        "# Use 3 clusters, than fit and predict model\n",
        "cluster_labels = KMeans(n_clusters=3).fit_predict(x)\n",
        "df['cluster'] = cluster_labels # Add the cluster labels to the DataFrame\n",
        "print(\"Silhouette Score: \", silhouette_score(x,cluster_labels)) # Print the Silhouette Score"
      ],
      "metadata": {
        "execution": {
          "iopub.status.busy": "2022-12-31T15:23:45.605178Z",
          "iopub.execute_input": "2022-12-31T15:23:45.605505Z",
          "iopub.status.idle": "2022-12-31T15:23:45.653105Z",
          "shell.execute_reply.started": "2022-12-31T15:23:45.605461Z",
          "shell.execute_reply": "2022-12-31T15:23:45.651079Z"
        },
        "trusted": true,
        "id": "3UjpMfj6XkhS"
      },
      "execution_count": null,
      "outputs": []
    },
    {
      "cell_type": "code",
      "source": [
        "# see the distribution of clusters\n",
        "ax=sns.countplot(x=df.cluster)\n",
        "ax.bar_label(ax.containers[0]);"
      ],
      "metadata": {
        "execution": {
          "iopub.status.busy": "2022-12-31T15:23:45.654288Z",
          "iopub.execute_input": "2022-12-31T15:23:45.654666Z",
          "iopub.status.idle": "2022-12-31T15:23:45.793129Z",
          "shell.execute_reply.started": "2022-12-31T15:23:45.654628Z",
          "shell.execute_reply": "2022-12-31T15:23:45.79236Z"
        },
        "trusted": true,
        "id": "1Qhxs-rwXkhS"
      },
      "execution_count": null,
      "outputs": []
    },
    {
      "cell_type": "markdown",
      "source": [
        "## Plotting end results in Scatter Diagrams."
      ],
      "metadata": {
        "id": "CNSjB5MxXkhS"
      }
    },
    {
      "cell_type": "code",
      "source": [
        "# Use seaborn to create a scatter plot with the 'Happiness score' feature on the x-axis and the 'GDP per capita' feature on the y-axis\n",
        "sns.scatterplot(x='Happiness score', y='Explained by: GDP per capita',palette='mako', hue='cluster', data=df);"
      ],
      "metadata": {
        "execution": {
          "iopub.status.busy": "2022-12-31T15:29:52.550644Z",
          "iopub.execute_input": "2022-12-31T15:29:52.551037Z",
          "iopub.status.idle": "2022-12-31T15:29:52.806786Z",
          "shell.execute_reply.started": "2022-12-31T15:29:52.551009Z",
          "shell.execute_reply": "2022-12-31T15:29:52.805453Z"
        },
        "trusted": true,
        "id": "kmIpzQalXkhS"
      },
      "execution_count": null,
      "outputs": []
    },
    {
      "cell_type": "code",
      "source": [
        "# Use seaborn to create a scatter plot with the 'Happiness score' feature on the x-axis and the 'Social support' feature on the y-axis\n",
        "sns.scatterplot(x='Happiness score', y='Explained by: Social support',palette=\"rocket\", hue='cluster', data=df);"
      ],
      "metadata": {
        "execution": {
          "iopub.status.busy": "2022-12-31T15:38:28.480292Z",
          "iopub.execute_input": "2022-12-31T15:38:28.480688Z",
          "iopub.status.idle": "2022-12-31T15:38:28.725962Z",
          "shell.execute_reply.started": "2022-12-31T15:38:28.480655Z",
          "shell.execute_reply": "2022-12-31T15:38:28.725239Z"
        },
        "trusted": true,
        "id": "czPDvcRhXkhS"
      },
      "execution_count": null,
      "outputs": []
    },
    {
      "cell_type": "code",
      "source": [
        "# Use seaborn to create a scatter plot with the 'Happiness score' feature on the x-axis and the 'Healthy life expectancy' feature on the y-axis\n",
        "sns.scatterplot(x='Happiness score', y='Explained by: Healthy life expectancy',palette=\"vlag\", hue='cluster', data=df);"
      ],
      "metadata": {
        "execution": {
          "iopub.status.busy": "2022-12-31T15:35:05.434005Z",
          "iopub.execute_input": "2022-12-31T15:35:05.434423Z",
          "iopub.status.idle": "2022-12-31T15:35:05.668727Z",
          "shell.execute_reply.started": "2022-12-31T15:35:05.434389Z",
          "shell.execute_reply": "2022-12-31T15:35:05.667388Z"
        },
        "trusted": true,
        "id": "EeRRAoekXkhT"
      },
      "execution_count": null,
      "outputs": []
    },
    {
      "cell_type": "code",
      "source": [
        "# Use seaborn to create a scatter plot with the 'Happiness score' feature on the x-axis and the 'Freedom to make life choices' feature on the y-axis\n",
        "sns.scatterplot(x='Happiness score', y='Explained by: Freedom to make life choices',palette=\"crest\", hue='cluster', data=df);"
      ],
      "metadata": {
        "execution": {
          "iopub.status.busy": "2022-12-31T15:31:22.812448Z",
          "iopub.execute_input": "2022-12-31T15:31:22.812873Z",
          "iopub.status.idle": "2022-12-31T15:31:23.065668Z",
          "shell.execute_reply.started": "2022-12-31T15:31:22.812837Z",
          "shell.execute_reply": "2022-12-31T15:31:23.06496Z"
        },
        "trusted": true,
        "id": "Feg3yvZmXkhT"
      },
      "execution_count": null,
      "outputs": []
    },
    {
      "cell_type": "code",
      "source": [
        "# Use seaborn to create a scatter plot with the 'Happiness score' feature on the x-axis and the 'Dystopia (1.83) + residual' feature on the y-axis\n",
        "sns.scatterplot(x='Happiness score', y='Dystopia (1.83) + residual',palette=\"Spectral\", hue='cluster', data=df);"
      ],
      "metadata": {
        "execution": {
          "iopub.status.busy": "2022-12-31T15:34:00.033524Z",
          "iopub.execute_input": "2022-12-31T15:34:00.033938Z",
          "iopub.status.idle": "2022-12-31T15:34:00.286045Z",
          "shell.execute_reply.started": "2022-12-31T15:34:00.033905Z",
          "shell.execute_reply": "2022-12-31T15:34:00.28494Z"
        },
        "trusted": true,
        "id": "ybdx5WRQXkhT"
      },
      "execution_count": null,
      "outputs": []
    },
    {
      "cell_type": "code",
      "source": [
        "# Use seaborn to create a scatter plot with the 'Happiness score' feature on the x-axis and the 'Generosity' feature on the y-axis\n",
        "sns.scatterplot(x='Happiness score', y='Explained by: Generosity',palette=\"viridis\", hue='cluster', data=df);"
      ],
      "metadata": {
        "execution": {
          "iopub.status.busy": "2022-12-31T15:32:12.347606Z",
          "iopub.execute_input": "2022-12-31T15:32:12.348645Z",
          "iopub.status.idle": "2022-12-31T15:32:12.604634Z",
          "shell.execute_reply.started": "2022-12-31T15:32:12.348612Z",
          "shell.execute_reply": "2022-12-31T15:32:12.603416Z"
        },
        "trusted": true,
        "id": "P6_ogF7rXkhT"
      },
      "execution_count": null,
      "outputs": []
    },
    {
      "cell_type": "code",
      "source": [
        "# Use seaborn to create a scatter plot with the 'GDP per capita' feature on the x-axis and the 'Healthy life expectancy' feature on the y-axis\n",
        "sns.scatterplot(x='Explained by: GDP per capita', y='Explained by: Healthy life expectancy',palette=\"turbo\", hue='cluster', data=df);"
      ],
      "metadata": {
        "execution": {
          "iopub.status.busy": "2022-12-31T15:50:04.040003Z",
          "iopub.execute_input": "2022-12-31T15:50:04.040413Z",
          "iopub.status.idle": "2022-12-31T15:50:04.301033Z",
          "shell.execute_reply.started": "2022-12-31T15:50:04.040376Z",
          "shell.execute_reply": "2022-12-31T15:50:04.299915Z"
        },
        "trusted": true,
        "id": "JvfkZ2NmXkhT"
      },
      "execution_count": null,
      "outputs": []
    },
    {
      "cell_type": "markdown",
      "source": [
        "**Conclusion:**<br>\n",
        "We can the that the Happines Score is rising with better Social Support, more freedom and GDP per capita."
      ],
      "metadata": {
        "id": "0kRN348bXkhT"
      }
    },
    {
      "cell_type": "markdown",
      "source": [
        "# GIS - Geographic Info Systems\n",
        "We are using GIS and plotly to visualize the clusters around the world."
      ],
      "metadata": {
        "id": "el2J1SeIXkhT"
      }
    },
    {
      "cell_type": "code",
      "source": [
        "#!pip install plotly"
      ],
      "metadata": {
        "execution": {
          "iopub.status.busy": "2022-12-31T15:39:12.183474Z",
          "iopub.execute_input": "2022-12-31T15:39:12.184767Z",
          "iopub.status.idle": "2022-12-31T15:39:12.188524Z",
          "shell.execute_reply.started": "2022-12-31T15:39:12.184722Z",
          "shell.execute_reply": "2022-12-31T15:39:12.187783Z"
        },
        "trusted": true,
        "id": "MPpOHimKXkha"
      },
      "execution_count": null,
      "outputs": []
    },
    {
      "cell_type": "code",
      "source": [
        "import plotly.graph_objects as go\n",
        "from plotly.offline import init_notebook_mode, iplot, plot\n",
        "init_notebook_mode(connected=True)"
      ],
      "metadata": {
        "execution": {
          "iopub.status.busy": "2022-12-31T15:40:17.844333Z",
          "iopub.execute_input": "2022-12-31T15:40:17.84469Z",
          "iopub.status.idle": "2022-12-31T15:40:17.920116Z",
          "shell.execute_reply.started": "2022-12-31T15:40:17.84466Z",
          "shell.execute_reply": "2022-12-31T15:40:17.918796Z"
        },
        "trusted": true,
        "id": "FELSXHitXkha"
      },
      "execution_count": null,
      "outputs": []
    },
    {
      "cell_type": "code",
      "source": [
        "data=dict(\n",
        "    type=\"choropleth\",\n",
        "    colorscale='aggrnyl',\n",
        "    reversescale=True,\n",
        "    locations=df['Country'],\n",
        "    locationmode=\"country names\",\n",
        "    z=df[\"cluster\"],\n",
        "    text=df[\"Country\"],\n",
        "    colorbar={'title':'Cluster Groups'}\n",
        ")\n",
        "\n",
        "layout=dict(title='Cluster Groups around the World',\n",
        "            geo=dict(showframe=False,projection={'type':'mercator'})\n",
        "           )"
      ],
      "metadata": {
        "execution": {
          "iopub.status.busy": "2022-12-31T15:50:30.397639Z",
          "iopub.execute_input": "2022-12-31T15:50:30.397962Z",
          "iopub.status.idle": "2022-12-31T15:50:30.404224Z",
          "shell.execute_reply.started": "2022-12-31T15:50:30.397937Z",
          "shell.execute_reply": "2022-12-31T15:50:30.40265Z"
        },
        "trusted": true,
        "id": "7oWHpmgpXkha"
      },
      "execution_count": null,
      "outputs": []
    },
    {
      "cell_type": "code",
      "source": [
        "choromap=go.Figure(data=data,layout=layout)\n",
        "iplot(choromap, validate=False)"
      ],
      "metadata": {
        "execution": {
          "iopub.status.busy": "2022-12-31T15:50:30.531215Z",
          "iopub.execute_input": "2022-12-31T15:50:30.532288Z",
          "iopub.status.idle": "2022-12-31T15:50:30.546333Z",
          "shell.execute_reply.started": "2022-12-31T15:50:30.532248Z",
          "shell.execute_reply": "2022-12-31T15:50:30.545156Z"
        },
        "trusted": true,
        "id": "6m4c3FiaXkha"
      },
      "execution_count": null,
      "outputs": []
    },
    {
      "cell_type": "markdown",
      "source": [
        "![happy2.jpg](attachment:9c8dad03-fdd3-4b25-a172-0e9b18f2721e.jpg)<br>\n",
        "**\"Don't worry. Be happy.\"** - Bobby McFerrin"
      ],
      "metadata": {
        "id": "f68IaWDEXkhb"
      }
    },
    {
      "cell_type": "code",
      "source": [],
      "metadata": {
        "id": "Ok7QcYgIXkhb"
      },
      "execution_count": null,
      "outputs": []
    }
  ]
}