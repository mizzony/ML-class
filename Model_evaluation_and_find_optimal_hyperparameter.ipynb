{
  "cells": [
    {
      "cell_type": "markdown",
      "metadata": {
        "id": "view-in-github",
        "colab_type": "text"
      },
      "source": [
        "<a href=\"https://colab.research.google.com/github/mizzony/ML-class/blob/main/Model_evaluation_and_find_optimal_hyperparameter.ipynb\" target=\"_parent\"><img src=\"https://colab.research.google.com/assets/colab-badge.svg\" alt=\"Open In Colab\"/></a>"
      ]
    },
    {
      "cell_type": "markdown",
      "metadata": {
        "id": "6aX-0PRFHhsP"
      },
      "source": [
        "## House price prediction"
      ],
      "id": "6aX-0PRFHhsP"
    },
    {
      "cell_type": "code",
      "execution_count": 38,
      "metadata": {
        "id": "adbS1DAPHhsL"
      },
      "outputs": [],
      "source": [
        "import numpy as np\n",
        "import pandas as pd\n",
        "import matplotlib.pyplot as plt\n",
        "import math\n",
        "from sklearn.linear_model import LinearRegression\n",
        "from sklearn.metrics import r2_score\n",
        "from sklearn import linear_model\n",
        "from sklearn.model_selection import train_test_split\n",
        "from sklearn.metrics import explained_variance_score\n",
        "import statsmodels.api as sm\n",
        "from matplotlib.pyplot import plot\n",
        "pd.set_option('display.max_columns', None) # This option displays all the columns\n"
      ],
      "id": "adbS1DAPHhsL"
    },
    {
      "cell_type": "code",
      "execution_count": 39,
      "metadata": {
        "id": "cARpoFz9HhsR"
      },
      "outputs": [],
      "source": [
        "# Load dataset\n",
        "kc_house_data = pd.read_csv('https://raw.githubusercontent.com/mizzony/ML-class/refs/heads/main/kc_house_data.csv')"
      ],
      "id": "cARpoFz9HhsR"
    },
    {
      "cell_type": "code",
      "execution_count": 40,
      "metadata": {
        "colab": {
          "base_uri": "https://localhost:8080/"
        },
        "id": "YTL6GipyHhsS",
        "outputId": "66e2eed9-4e70-41c2-d974-11a3c134ff58"
      },
      "outputs": [
        {
          "output_type": "stream",
          "name": "stdout",
          "text": [
            "(21613, 21)\n",
            "Index(['id', 'date', 'price', 'bedrooms', 'bathrooms', 'sqft_living',\n",
            "       'sqft_lot', 'floors', 'waterfront', 'view', 'condition', 'grade',\n",
            "       'sqft_above', 'sqft_basement', 'yr_built', 'yr_renovated', 'zipcode',\n",
            "       'lat', 'long', 'sqft_living15', 'sqft_lot15'],\n",
            "      dtype='object')\n",
            "id                 int64\n",
            "date              object\n",
            "price              int64\n",
            "bedrooms           int64\n",
            "bathrooms        float64\n",
            "sqft_living        int64\n",
            "sqft_lot           int64\n",
            "floors           float64\n",
            "waterfront         int64\n",
            "view               int64\n",
            "condition          int64\n",
            "grade              int64\n",
            "sqft_above         int64\n",
            "sqft_basement      int64\n",
            "yr_built           int64\n",
            "yr_renovated       int64\n",
            "zipcode            int64\n",
            "lat              float64\n",
            "long             float64\n",
            "sqft_living15      int64\n",
            "sqft_lot15         int64\n",
            "dtype: object\n",
            "<class 'pandas.core.frame.DataFrame'>\n",
            "RangeIndex: 21613 entries, 0 to 21612\n",
            "Data columns (total 21 columns):\n",
            " #   Column         Non-Null Count  Dtype  \n",
            "---  ------         --------------  -----  \n",
            " 0   id             21613 non-null  int64  \n",
            " 1   date           21613 non-null  object \n",
            " 2   price          21613 non-null  int64  \n",
            " 3   bedrooms       21613 non-null  int64  \n",
            " 4   bathrooms      21613 non-null  float64\n",
            " 5   sqft_living    21613 non-null  int64  \n",
            " 6   sqft_lot       21613 non-null  int64  \n",
            " 7   floors         21613 non-null  float64\n",
            " 8   waterfront     21613 non-null  int64  \n",
            " 9   view           21613 non-null  int64  \n",
            " 10  condition      21613 non-null  int64  \n",
            " 11  grade          21613 non-null  int64  \n",
            " 12  sqft_above     21613 non-null  int64  \n",
            " 13  sqft_basement  21613 non-null  int64  \n",
            " 14  yr_built       21613 non-null  int64  \n",
            " 15  yr_renovated   21613 non-null  int64  \n",
            " 16  zipcode        21613 non-null  int64  \n",
            " 17  lat            21613 non-null  float64\n",
            " 18  long           21613 non-null  float64\n",
            " 19  sqft_living15  21613 non-null  int64  \n",
            " 20  sqft_lot15     21613 non-null  int64  \n",
            "dtypes: float64(4), int64(16), object(1)\n",
            "memory usage: 3.5+ MB\n",
            "                 id       price  bedrooms  bathrooms  sqft_living    sqft_lot  \\\n",
            "count  2.161300e+04    21613.00  21613.00   21613.00     21613.00    21613.00   \n",
            "mean   4.580302e+09   540088.14      3.37       2.11      2079.90    15106.97   \n",
            "std    2.876566e+09   367127.20      0.93       0.77       918.44    41420.51   \n",
            "min    1.000102e+06    75000.00      0.00       0.00       290.00      520.00   \n",
            "25%    2.123049e+09   321950.00      3.00       1.75      1427.00     5040.00   \n",
            "50%    3.904930e+09   450000.00      3.00       2.25      1910.00     7618.00   \n",
            "75%    7.308900e+09   645000.00      4.00       2.50      2550.00    10688.00   \n",
            "max    9.900000e+09  7700000.00     33.00       8.00     13540.00  1651359.00   \n",
            "\n",
            "         floors  waterfront      view  condition     grade  sqft_above  \\\n",
            "count  21613.00    21613.00  21613.00   21613.00  21613.00    21613.00   \n",
            "mean       1.49        0.01      0.23       3.41      7.66     1788.39   \n",
            "std        0.54        0.09      0.77       0.65      1.18      828.09   \n",
            "min        1.00        0.00      0.00       1.00      1.00      290.00   \n",
            "25%        1.00        0.00      0.00       3.00      7.00     1190.00   \n",
            "50%        1.50        0.00      0.00       3.00      7.00     1560.00   \n",
            "75%        2.00        0.00      0.00       4.00      8.00     2210.00   \n",
            "max        3.50        1.00      4.00       5.00     13.00     9410.00   \n",
            "\n",
            "       sqft_basement  yr_built  yr_renovated   zipcode       lat      long  \\\n",
            "count       21613.00  21613.00      21613.00  21613.00  21613.00  21613.00   \n",
            "mean          291.51   1971.01         84.40  98077.94     47.56   -122.21   \n",
            "std           442.58     29.37        401.68     53.51      0.14      0.14   \n",
            "min             0.00   1900.00          0.00  98001.00     47.16   -122.52   \n",
            "25%             0.00   1951.00          0.00  98033.00     47.47   -122.33   \n",
            "50%             0.00   1975.00          0.00  98065.00     47.57   -122.23   \n",
            "75%           560.00   1997.00          0.00  98118.00     47.68   -122.12   \n",
            "max          4820.00   2015.00       2015.00  98199.00     47.78   -121.32   \n",
            "\n",
            "       sqft_living15  sqft_lot15  \n",
            "count       21613.00    21613.00  \n",
            "mean         1986.55    12768.46  \n",
            "std           685.39    27304.18  \n",
            "min           399.00      651.00  \n",
            "25%          1490.00     5100.00  \n",
            "50%          1840.00     7620.00  \n",
            "75%          2360.00    10083.00  \n",
            "max          6210.00   871200.00  \n"
          ]
        }
      ],
      "source": [
        "# Get an idea on number of rows and columns\n",
        "print(kc_house_data.shape)\n",
        "\n",
        "# Print the column names\n",
        "print(kc_house_data.columns)\n",
        "\n",
        "# Print the column types\n",
        "print(kc_house_data.dtypes)\n",
        "\n",
        "# Additional Details\n",
        "kc_house_data.info()\n",
        "\n",
        "# Summary\n",
        "all_cols_summary = kc_house_data.describe()\n",
        "print(round(all_cols_summary, 2))"
      ],
      "id": "YTL6GipyHhsS"
    },
    {
      "cell_type": "code",
      "execution_count": 41,
      "metadata": {
        "id": "6f5s42lOHhsT"
      },
      "outputs": [],
      "source": [
        "# Defining X data\n",
        "X = kc_house_data[['bedrooms', 'bathrooms', 'sqft_living', 'sqft_lot', 'floors', 'waterfront', 'view', 'condition', 'grade', 'sqft_above', 'sqft_basement', 'yr_built', 'yr_renovated', 'zipcode', 'lat', 'long', 'sqft_living15', 'sqft_lot15']]\n",
        "\n",
        "y = kc_house_data['price']"
      ],
      "id": "6f5s42lOHhsT"
    },
    {
      "cell_type": "code",
      "execution_count": 42,
      "metadata": {
        "colab": {
          "base_uri": "https://localhost:8080/"
        },
        "id": "dyjaRkGaHhsT",
        "outputId": "292b733a-e889-43fc-af65-eb68cf9a825d"
      },
      "outputs": [
        {
          "output_type": "stream",
          "name": "stdout",
          "text": [
            "(17290, 18)\n",
            "(17290,)\n",
            "(4323, 18)\n",
            "(4323,)\n"
          ]
        }
      ],
      "source": [
        "from sklearn import model_selection\n",
        "X_train, X_test, y_train, y_test = model_selection.train_test_split(X, y, test_size=0.2, random_state=55)\n",
        "\n",
        "print(X_train.shape)\n",
        "print(y_train.shape)\n",
        "print(X_test.shape)\n",
        "print(y_test.shape)"
      ],
      "id": "dyjaRkGaHhsT"
    },
    {
      "cell_type": "code",
      "execution_count": 43,
      "metadata": {
        "colab": {
          "base_uri": "https://localhost:8080/"
        },
        "id": "PgNIM_bjHhsU",
        "outputId": "e74c5b08-1c88-465f-a597-c7934394842a"
      },
      "outputs": [
        {
          "output_type": "stream",
          "name": "stdout",
          "text": [
            "8080822.666115353\n",
            "[-3.76187142e+04  4.39929752e+04  1.11927627e+02  1.12260521e-01\n",
            "  7.86848634e+03  5.82851207e+05  5.24147307e+04  2.56475517e+04\n",
            "  9.63780999e+04  7.02315648e+01  4.16960621e+01 -2.66443082e+03\n",
            "  2.22630357e+01 -5.83768676e+02  6.04058556e+05 -2.04643130e+05\n",
            "  1.84979337e+01 -3.70481687e-01]\n"
          ]
        }
      ],
      "source": [
        "import sklearn\n",
        "model_1 = sklearn.linear_model.LinearRegression()\n",
        "model_1.fit(X_train, y_train)\n",
        "\n",
        "# Coefficients and Intercept\n",
        "print(model_1.intercept_)\n",
        "print(model_1.coef_)"
      ],
      "id": "PgNIM_bjHhsU"
    },
    {
      "cell_type": "code",
      "execution_count": 44,
      "metadata": {
        "colab": {
          "base_uri": "https://localhost:8080/"
        },
        "id": "qfdJfI1dHhsV",
        "outputId": "71c55214-b804-4728-d348-09286520ec81"
      },
      "outputs": [
        {
          "output_type": "stream",
          "name": "stdout",
          "text": [
            "0.7004310823997759\n"
          ]
        }
      ],
      "source": [
        "# Rsquared Calculation on Train data\n",
        "from sklearn import metrics\n",
        "y_pred_train = model_1.predict(X_train)\n",
        "print(metrics.r2_score(y_train, y_pred_train))"
      ],
      "id": "qfdJfI1dHhsV"
    },
    {
      "cell_type": "code",
      "execution_count": 45,
      "metadata": {
        "colab": {
          "base_uri": "https://localhost:8080/"
        },
        "id": "ofw-xu-SHhsW",
        "outputId": "486cd8fe-a24e-4482-982b-f9b57f12fece"
      },
      "outputs": [
        {
          "output_type": "stream",
          "name": "stdout",
          "text": [
            "0.6964362880041246\n"
          ]
        }
      ],
      "source": [
        "# Rsquared Calculation on test data\n",
        "y_pred_test = model_1.predict(X_test)\n",
        "print(metrics.r2_score(y_test, y_pred_test))"
      ],
      "id": "ofw-xu-SHhsW"
    },
    {
      "cell_type": "code",
      "execution_count": 46,
      "metadata": {
        "colab": {
          "base_uri": "https://localhost:8080/"
        },
        "id": "I_Z-ASFYHhsX",
        "outputId": "652bba9f-63a5-45ef-bf49-3087f3402593"
      },
      "outputs": [
        {
          "output_type": "stream",
          "name": "stdout",
          "text": [
            "R-Squared on Train data:  0.7004310823997759\n",
            "R-Squared on Test data:  0.6964362880041246\n"
          ]
        }
      ],
      "source": [
        "# RSquared\n",
        "print(\"R-Squared on Train data: \", metrics.r2_score(y_train, y_pred_train))\n",
        "print(\"R-Squared on Test data: \", metrics.r2_score(y_test, y_pred_test))"
      ],
      "id": "I_Z-ASFYHhsX"
    },
    {
      "cell_type": "code",
      "execution_count": 47,
      "metadata": {
        "colab": {
          "base_uri": "https://localhost:8080/"
        },
        "id": "kX25b_D8HhsY",
        "outputId": "0e8cc9f8-7073-408e-8ce4-3f53406264dd"
      },
      "outputs": [
        {
          "output_type": "stream",
          "name": "stdout",
          "text": [
            "MAD on Train data:  125920.32\n",
            "MAD on Test data:  126818.8\n"
          ]
        }
      ],
      "source": [
        "# MAD\n",
        "print(\"MAD on Train data: \", round(np.mean(np.abs(y_train - y_pred_train)), 2))\n",
        "print(\"MAD on Test data: \", round(np.mean(np.abs(y_test - y_pred_test)), 2))"
      ],
      "id": "kX25b_D8HhsY"
    },
    {
      "cell_type": "code",
      "execution_count": 48,
      "metadata": {
        "colab": {
          "base_uri": "https://localhost:8080/"
        },
        "id": "FHqTWWMFHhsa",
        "outputId": "cfb80593-66e0-40e2-a691-c45d33b0aeba"
      },
      "outputs": [
        {
          "output_type": "stream",
          "name": "stdout",
          "text": [
            "MAPE on Train data:  0.26\n",
            "MAPE on Test data:  0.26\n"
          ]
        }
      ],
      "source": [
        "# MAPE\n",
        "print(\"MAPE on Train data: \", round(np.mean(np.abs(y_train - y_pred_train) / y_train), 2))\n",
        "print(\"MAPE on Test data: \", round(np.mean(np.abs(y_test - y_pred_test) / y_test), 2))"
      ],
      "id": "FHqTWWMFHhsa"
    },
    {
      "cell_type": "code",
      "execution_count": 49,
      "metadata": {
        "colab": {
          "base_uri": "https://localhost:8080/"
        },
        "id": "kqLb8_8CHhsa",
        "outputId": "23e4c5a9-b98c-4cad-9236-c23037e3957a"
      },
      "outputs": [
        {
          "output_type": "stream",
          "name": "stdout",
          "text": [
            "RMSE on Train data:  202295.52\n",
            "RMSE on Test data:  196693.42\n"
          ]
        }
      ],
      "source": [
        "# RMSE\n",
        "print(\"RMSE on Train data: \", round(math.sqrt(np.mean(np.abs(y_train - y_pred_train) ** 2)), 2))\n",
        "print(\"RMSE on Test data: \", round(math.sqrt(np.mean(np.abs(y_test - y_pred_test) ** 2)), 2))"
      ],
      "id": "kqLb8_8CHhsa"
    },
    {
      "cell_type": "code",
      "execution_count": 50,
      "metadata": {
        "colab": {
          "base_uri": "https://localhost:8080/",
          "height": 335
        },
        "id": "Asog-fK3Hhsb",
        "outputId": "4f8d9363-afef-4aac-edde-69d1d15f6c38"
      },
      "outputs": [
        {
          "output_type": "execute_result",
          "data": {
            "text/plain": [
              "count      21613.0\n",
              "mean      540088.0\n",
              "std       367127.0\n",
              "min        75000.0\n",
              "25%       321950.0\n",
              "50%       450000.0\n",
              "75%       645000.0\n",
              "max      7700000.0\n",
              "Name: price, dtype: float64"
            ],
            "text/html": [
              "<div>\n",
              "<style scoped>\n",
              "    .dataframe tbody tr th:only-of-type {\n",
              "        vertical-align: middle;\n",
              "    }\n",
              "\n",
              "    .dataframe tbody tr th {\n",
              "        vertical-align: top;\n",
              "    }\n",
              "\n",
              "    .dataframe thead th {\n",
              "        text-align: right;\n",
              "    }\n",
              "</style>\n",
              "<table border=\"1\" class=\"dataframe\">\n",
              "  <thead>\n",
              "    <tr style=\"text-align: right;\">\n",
              "      <th></th>\n",
              "      <th>price</th>\n",
              "    </tr>\n",
              "  </thead>\n",
              "  <tbody>\n",
              "    <tr>\n",
              "      <th>count</th>\n",
              "      <td>21613.0</td>\n",
              "    </tr>\n",
              "    <tr>\n",
              "      <th>mean</th>\n",
              "      <td>540088.0</td>\n",
              "    </tr>\n",
              "    <tr>\n",
              "      <th>std</th>\n",
              "      <td>367127.0</td>\n",
              "    </tr>\n",
              "    <tr>\n",
              "      <th>min</th>\n",
              "      <td>75000.0</td>\n",
              "    </tr>\n",
              "    <tr>\n",
              "      <th>25%</th>\n",
              "      <td>321950.0</td>\n",
              "    </tr>\n",
              "    <tr>\n",
              "      <th>50%</th>\n",
              "      <td>450000.0</td>\n",
              "    </tr>\n",
              "    <tr>\n",
              "      <th>75%</th>\n",
              "      <td>645000.0</td>\n",
              "    </tr>\n",
              "    <tr>\n",
              "      <th>max</th>\n",
              "      <td>7700000.0</td>\n",
              "    </tr>\n",
              "  </tbody>\n",
              "</table>\n",
              "</div><br><label><b>dtype:</b> float64</label>"
            ]
          },
          "metadata": {},
          "execution_count": 50
        }
      ],
      "source": [
        "# Describe method price\n",
        "round(kc_house_data.price.describe())"
      ],
      "id": "Asog-fK3Hhsb"
    },
    {
      "cell_type": "markdown",
      "id": "credit-risk-data",
      "metadata": {
        "id": "credit-risk-data"
      },
      "source": [
        "## Credit Risk Data"
      ]
    },
    {
      "cell_type": "code",
      "execution_count": 51,
      "id": "import-packages",
      "metadata": {
        "id": "import-packages"
      },
      "outputs": [],
      "source": [
        "import numpy as np\n",
        "import pandas as pd\n",
        "import matplotlib.pyplot as plt\n",
        "import math\n",
        "from sklearn.linear_model import LinearRegression\n",
        "from sklearn.metrics import r2_score\n",
        "from sklearn import linear_model\n",
        "from sklearn.model_selection import train_test_split\n",
        "from sklearn.metrics import explained_variance_score\n",
        "import statsmodels.api as sm\n",
        "from matplotlib.pyplot import plot\n",
        "pd.set_option('display.max_columns', None)"
      ]
    },
    {
      "cell_type": "code",
      "execution_count": 52,
      "id": "load-dataset",
      "metadata": {
        "colab": {
          "base_uri": "https://localhost:8080/"
        },
        "id": "load-dataset",
        "outputId": "4a4fc771-581a-482f-d0dd-f42bf0b63bb8"
      },
      "outputs": [
        {
          "output_type": "stream",
          "name": "stdout",
          "text": [
            "(150008, 10)\n",
            "Index(['Cust_num', 'Bad', 'Credit_Limit', 'Late_Payments_Count',\n",
            "       'Card_Utilization_Percent', 'Age', 'Debt_to_income_ratio',\n",
            "       'Monthly_Income', 'Num_loans_personal_loans', 'Family_dependents'],\n",
            "      dtype='object')\n",
            "Cust_num                      int64\n",
            "Bad                           int64\n",
            "Credit_Limit                  int64\n",
            "Late_Payments_Count           int64\n",
            "Card_Utilization_Percent    float64\n",
            "Age                           int64\n",
            "Debt_to_income_ratio        float64\n",
            "Monthly_Income                int64\n",
            "Num_loans_personal_loans      int64\n",
            "Family_dependents             int64\n",
            "dtype: object\n",
            "<class 'pandas.core.frame.DataFrame'>\n",
            "RangeIndex: 150008 entries, 0 to 150007\n",
            "Data columns (total 10 columns):\n",
            " #   Column                    Non-Null Count   Dtype  \n",
            "---  ------                    --------------   -----  \n",
            " 0   Cust_num                  150008 non-null  int64  \n",
            " 1   Bad                       150008 non-null  int64  \n",
            " 2   Credit_Limit              150008 non-null  int64  \n",
            " 3   Late_Payments_Count       150008 non-null  int64  \n",
            " 4   Card_Utilization_Percent  150008 non-null  float64\n",
            " 5   Age                       150008 non-null  int64  \n",
            " 6   Debt_to_income_ratio      150008 non-null  float64\n",
            " 7   Monthly_Income            150008 non-null  int64  \n",
            " 8   Num_loans_personal_loans  150008 non-null  int64  \n",
            " 9   Family_dependents         150008 non-null  int64  \n",
            "dtypes: float64(2), int64(8)\n",
            "memory usage: 11.4 MB\n",
            "        Cust_num        Bad  Credit_Limit  Late_Payments_Count  \\\n",
            "count  150008.00  150008.00     150008.00            150008.00   \n",
            "mean    75004.50       0.07       6311.85                 0.26   \n",
            "std     43303.72       0.25       5221.25                 0.74   \n",
            "min         1.00       0.00        100.00                 0.00   \n",
            "25%     37502.75       0.00       4000.00                 0.00   \n",
            "50%     75004.50       0.00       4900.00                 0.00   \n",
            "75%    112506.25       0.00       7400.00                 0.00   \n",
            "max    150008.00       1.00     100000.00                13.00   \n",
            "\n",
            "       Card_Utilization_Percent        Age  Debt_to_income_ratio  \\\n",
            "count                 150008.00  150008.00             150008.00   \n",
            "mean                      30.38      52.30                  0.30   \n",
            "std                       33.41      14.77                  0.20   \n",
            "min                        0.00      21.00                  0.00   \n",
            "25%                        3.00      41.00                  0.18   \n",
            "50%                       15.40      52.00                  0.27   \n",
            "75%                       50.70      63.00                  0.38   \n",
            "max                      100.00     109.00                  1.00   \n",
            "\n",
            "       Monthly_Income  Num_loans_personal_loans  Family_dependents  \n",
            "count       150008.00                 150008.00          150008.00  \n",
            "mean          6324.28                      1.02               0.74  \n",
            "std           7847.86                      1.11               1.11  \n",
            "min           1000.00                      0.00               0.00  \n",
            "25%           4042.00                      0.00               0.00  \n",
            "50%           4817.00                      1.00               0.00  \n",
            "75%           7400.00                      2.00               1.00  \n",
            "max         835040.00                     14.00              10.00  \n"
          ]
        }
      ],
      "source": [
        "# Load the dataset\n",
        "credit_risk_data = pd.read_csv('https://raw.githubusercontent.com/mizzony/ML-class/refs/heads/main/credit_risk_data_v1.csv')\n",
        "\n",
        "# Get an idea on number of rows and columns\n",
        "print(credit_risk_data.shape)\n",
        "\n",
        "# Print the column names\n",
        "print(credit_risk_data.columns)\n",
        "\n",
        "# Print the column types\n",
        "print(credit_risk_data.dtypes)\n",
        "\n",
        "# Additional Details\n",
        "credit_risk_data.info()\n",
        "\n",
        "# Summary and Bad will be dependent factor\n",
        "all_cols_summary = credit_risk_data.describe()\n",
        "print(round(all_cols_summary, 2))"
      ]
    },
    {
      "cell_type": "markdown",
      "id": "define-data",
      "metadata": {
        "id": "define-data"
      },
      "source": [
        "### Defining X and y data"
      ]
    },
    {
      "cell_type": "code",
      "execution_count": 53,
      "id": "define-xy",
      "metadata": {
        "id": "define-xy"
      },
      "outputs": [],
      "source": [
        "# Defining X data\n",
        "X = credit_risk_data[['Credit_Limit', 'Late_Payments_Count',\n",
        "       'Card_Utilization_Percent', 'Age', 'Debt_to_income_ratio',\n",
        "       'Monthly_Income', 'Num_loans_personal_loans', 'Family_dependents']]\n",
        "\n",
        "y = credit_risk_data['Bad'] #0 give, 1 = dont give(bad)"
      ]
    },
    {
      "cell_type": "markdown",
      "id": "split-data",
      "metadata": {
        "id": "split-data"
      },
      "source": [
        "### Splitting the Dataset"
      ]
    },
    {
      "cell_type": "code",
      "execution_count": 54,
      "id": "split-dataset",
      "metadata": {
        "colab": {
          "base_uri": "https://localhost:8080/"
        },
        "id": "split-dataset",
        "outputId": "3d849647-de6b-4721-e664-a58ec6104126"
      },
      "outputs": [
        {
          "output_type": "stream",
          "name": "stdout",
          "text": [
            "(120006, 8)\n",
            "(120006,)\n",
            "(30002, 8)\n",
            "(30002,)\n"
          ]
        }
      ],
      "source": [
        "# Splitting the dataset into train and test sets\n",
        "X_train, X_test, y_train, y_test = train_test_split(X, y, test_size=0.2, random_state=55)\n",
        "\n",
        "print(X_train.shape)\n",
        "print(y_train.shape)\n",
        "print(X_test.shape)\n",
        "print(y_test.shape)"
      ]
    },
    {
      "cell_type": "markdown",
      "id": "logistic-model",
      "metadata": {
        "id": "logistic-model"
      },
      "source": [
        "### Building the Logistic Regression Model"
      ]
    },
    {
      "cell_type": "code",
      "source": [
        "# from sklearn.preprocessing import StandardScaler  # Import StandardScaler\n",
        "# from sklearn.linear_model import LogisticRegression  # Import LogisticRegression\n",
        "\n",
        "# # Option 1: Increase max_iter (be cautious of overfitting)\n",
        "# # model_2 = LogisticRegression(solver=\"lbfgs\", max_iter=500)  # Increase iterations (optional)\n",
        "\n",
        "# # Option 2: Scale the data (recommended)\n",
        "# #scaler = StandardScaler()\n",
        "# X_train_scaled = scaler.fit_transform(X_train)\n",
        "\n",
        "# model_2 = LogisticRegression(solver=\"lbfgs\")\n",
        "# model_2.fit(X_train_scaled, y_train)\n",
        "\n",
        "# # Coefficients and Intercept\n",
        "# print(model_2.intercept_)\n",
        "# print(model_2.coef_)"
      ],
      "metadata": {
        "id": "vdg8hNosJz94"
      },
      "id": "vdg8hNosJz94",
      "execution_count": 55,
      "outputs": []
    },
    {
      "cell_type": "code",
      "execution_count": 56,
      "id": "logistic-regression",
      "metadata": {
        "colab": {
          "base_uri": "https://localhost:8080/"
        },
        "id": "logistic-regression",
        "outputId": "9fde0365-a967-4637-dae6-616bd3777dcb"
      },
      "outputs": [
        {
          "output_type": "stream",
          "name": "stdout",
          "text": [
            "[-2.8074694]\n",
            "[[-3.48983518e-05  6.16175476e-01  1.85209124e-02 -1.97438020e-02\n",
            "   3.77589100e-01  4.46771064e-06  5.18987426e-02  7.40712326e-02]]\n"
          ]
        }
      ],
      "source": [
        "# Building the Logistic Regression model\n",
        "from sklearn.linear_model import LogisticRegression\n",
        "model_2 = LogisticRegression(solver=\"lbfgs\", max_iter=2000)\n",
        "model_2.fit(X_train, y_train)\n",
        "\n",
        "# Coefficients and Intercept\n",
        "print(model_2.intercept_)\n",
        "print(model_2.coef_)"
      ]
    },
    {
      "cell_type": "markdown",
      "id": "confusion-matrix-train",
      "metadata": {
        "id": "confusion-matrix-train"
      },
      "source": [
        "### Confusion Matrix Calculation on Train Data"
      ]
    },
    {
      "cell_type": "code",
      "execution_count": 57,
      "metadata": {
        "colab": {
          "base_uri": "https://localhost:8080/",
          "height": 927
        },
        "id": "iuEnmarzHhsf",
        "outputId": "96604259-bde8-4570-a1c4-9b32d05669be"
      },
      "outputs": [
        {
          "output_type": "stream",
          "name": "stdout",
          "text": [
            "Requirement already satisfied: statsmodels in /usr/local/lib/python3.10/dist-packages (0.14.4)\n",
            "Requirement already satisfied: numpy<3,>=1.22.3 in /usr/local/lib/python3.10/dist-packages (from statsmodels) (1.26.4)\n",
            "Requirement already satisfied: scipy!=1.9.2,>=1.8 in /usr/local/lib/python3.10/dist-packages (from statsmodels) (1.13.1)\n",
            "Requirement already satisfied: pandas!=2.1.0,>=1.4 in /usr/local/lib/python3.10/dist-packages (from statsmodels) (2.2.2)\n",
            "Requirement already satisfied: patsy>=0.5.6 in /usr/local/lib/python3.10/dist-packages (from statsmodels) (0.5.6)\n",
            "Requirement already satisfied: packaging>=21.3 in /usr/local/lib/python3.10/dist-packages (from statsmodels) (24.1)\n",
            "Requirement already satisfied: python-dateutil>=2.8.2 in /usr/local/lib/python3.10/dist-packages (from pandas!=2.1.0,>=1.4->statsmodels) (2.8.2)\n",
            "Requirement already satisfied: pytz>=2020.1 in /usr/local/lib/python3.10/dist-packages (from pandas!=2.1.0,>=1.4->statsmodels) (2024.2)\n",
            "Requirement already satisfied: tzdata>=2022.7 in /usr/local/lib/python3.10/dist-packages (from pandas!=2.1.0,>=1.4->statsmodels) (2024.2)\n",
            "Requirement already satisfied: six in /usr/local/lib/python3.10/dist-packages (from patsy>=0.5.6->statsmodels) (1.16.0)\n",
            "[[111369    545]\n",
            " [  7531    561]]\n"
          ]
        },
        {
          "output_type": "execute_result",
          "data": {
            "text/plain": [
              "(<Figure size 640x480 with 3 Axes>,\n",
              " {('0', '0'): (0.0, 0.0, 0.9279303862335906, 0.9918241088894966),\n",
              "  ('0', '1'): (0.0,\n",
              "   0.9951463680257092,\n",
              "   0.9279303862335906,\n",
              "   0.0048536319742907025),\n",
              "  ('1', '0'): (0.9329055106117001,\n",
              "   0.0,\n",
              "   0.06709448938830004,\n",
              "   0.927580334459365),\n",
              "  ('1', '1'): (0.9329055106117001,\n",
              "   0.9309025935955777,\n",
              "   0.06709448938830004,\n",
              "   0.0690974064044222)})"
            ]
          },
          "metadata": {},
          "execution_count": 57
        },
        {
          "output_type": "display_data",
          "data": {
            "text/plain": [
              "<Figure size 640x480 with 3 Axes>"
            ],
            "image/png": "[encoded data removed]"
          },
          "metadata": {}
        }
      ],
      "source": [
        "# Install the statsmodels library\n",
        "!pip install statsmodels\n",
        "\n",
        "# Confusion Matrix Calculation on Train Data\n",
        "from sklearn.metrics import confusion_matrix\n",
        "\n",
        "y_pred_train = model_2.predict(X_train)\n",
        "cm1 = confusion_matrix(y_train, y_pred_train)\n",
        "print(cm1)\n",
        "\n",
        "# Import mosaic from the correct module\n",
        "from statsmodels.graphics.mosaicplot import mosaic\n",
        "mosaic(cm1)"
      ],
      "id": "iuEnmarzHhsf"
    },
    {
      "cell_type": "markdown",
      "id": "accuracy-train",
      "metadata": {
        "id": "accuracy-train"
      },
      "source": [
        "### Accuracy on Train Data"
      ]
    },
    {
      "cell_type": "code",
      "execution_count": 58,
      "metadata": {
        "colab": {
          "base_uri": "https://localhost:8080/"
        },
        "id": "YwM7XuLqHhsg",
        "outputId": "5f1ae1d8-b6c4-42a9-d70b-30dc99f7be61"
      },
      "outputs": [
        {
          "output_type": "stream",
          "name": "stdout",
          "text": [
            "0.9327033648317584\n"
          ]
        }
      ],
      "source": [
        "# Accuracy on Train Data\n",
        "accuracy1 = (cm1[0, 0] + cm1[1, 1]) / (cm1[0, 0] + cm1[0, 1] + cm1[1, 0] + cm1[1, 1])\n",
        "print(accuracy1)"
      ],
      "id": "YwM7XuLqHhsg"
    },
    {
      "cell_type": "markdown",
      "id": "confusion-matrix-test",
      "metadata": {
        "id": "confusion-matrix-test"
      },
      "source": [
        "### Confusion Matrix on Test Data"
      ]
    },
    {
      "cell_type": "code",
      "execution_count": 59,
      "metadata": {
        "colab": {
          "base_uri": "https://localhost:8080/",
          "height": 729
        },
        "id": "uCvIUjYQHhsg",
        "outputId": "c1eb7383-bc2d-40e5-a456-03d73dedbf30"
      },
      "outputs": [
        {
          "output_type": "stream",
          "name": "stdout",
          "text": [
            "[[27945   122]\n",
            " [ 1826   109]]\n"
          ]
        },
        {
          "output_type": "execute_result",
          "data": {
            "text/plain": [
              "(<Figure size 640x480 with 3 Axes>,\n",
              " {('0', '0'): (0.0, 0.0, 0.9308500494660225, 0.9923454401410388),\n",
              "  ('0', '1'): (0.0,\n",
              "   0.9956676992772514,\n",
              "   0.9308500494660225,\n",
              "   0.004332300722748537),\n",
              "  ('1', '0'): (0.9358251738441319,\n",
              "   0.0,\n",
              "   0.0641748261558682,\n",
              "   0.9405341368564731),\n",
              "  ('1', '1'): (0.9358251738441319,\n",
              "   0.9438563959926858,\n",
              "   0.0641748261558682,\n",
              "   0.05614360400731412)})"
            ]
          },
          "metadata": {},
          "execution_count": 59
        },
        {
          "output_type": "display_data",
          "data": {
            "text/plain": [
              "<Figure size 640x480 with 3 Axes>"
            ],
            "image/png": "[encoded data removed]"
          },
          "metadata": {}
        }
      ],
      "source": [
        "# Confusion Matrix on Test Data\n",
        "y_pred_test = model_2.predict(X_test)\n",
        "cm2 = confusion_matrix(y_test, y_pred_test)\n",
        "print(cm2)\n",
        "\n",
        "# Import mosaic from the correct module\n",
        "from statsmodels.graphics.mosaicplot import mosaic\n",
        "mosaic(cm2)"
      ],
      "id": "uCvIUjYQHhsg"
    },
    {
      "cell_type": "markdown",
      "id": "accuracy-test",
      "metadata": {
        "id": "accuracy-test"
      },
      "source": [
        "### Accuracy on Test Data"
      ]
    },
    {
      "cell_type": "code",
      "execution_count": 60,
      "metadata": {
        "colab": {
          "base_uri": "https://localhost:8080/"
        },
        "id": "kUx0t5zhHhsg",
        "outputId": "32bf92be-36f9-4bbc-db91-93d6c3775951"
      },
      "outputs": [
        {
          "output_type": "stream",
          "name": "stdout",
          "text": [
            "0.9350709952669822\n"
          ]
        }
      ],
      "source": [
        "# Accuracy on Test Data\n",
        "accuracy2 = (cm2[0, 0] + cm2[1, 1]) / (cm2[0, 0] + cm2[0, 1] + cm2[1, 0] + cm2[1, 1])\n",
        "print(accuracy2)"
      ],
      "id": "kUx0t5zhHhsg"
    },
    {
      "cell_type": "code",
      "source": [
        "#Frequency of target variable\n",
        "credit_risk_data['Bad'].value_counts()"
      ],
      "metadata": {
        "colab": {
          "base_uri": "https://localhost:8080/",
          "height": 178
        },
        "id": "sDIKZdRWVmLg",
        "outputId": "be9b3e93-8973-41c9-fd27-bdbb1b74b259"
      },
      "id": "sDIKZdRWVmLg",
      "execution_count": 61,
      "outputs": [
        {
          "output_type": "execute_result",
          "data": {
            "text/plain": [
              "Bad\n",
              "0    139981\n",
              "1     10027\n",
              "Name: count, dtype: int64"
            ],
            "text/html": [
              "<div>\n",
              "<style scoped>\n",
              "    .dataframe tbody tr th:only-of-type {\n",
              "        vertical-align: middle;\n",
              "    }\n",
              "\n",
              "    .dataframe tbody tr th {\n",
              "        vertical-align: top;\n",
              "    }\n",
              "\n",
              "    .dataframe thead th {\n",
              "        text-align: right;\n",
              "    }\n",
              "</style>\n",
              "<table border=\"1\" class=\"dataframe\">\n",
              "  <thead>\n",
              "    <tr style=\"text-align: right;\">\n",
              "      <th></th>\n",
              "      <th>count</th>\n",
              "    </tr>\n",
              "    <tr>\n",
              "      <th>Bad</th>\n",
              "      <th></th>\n",
              "    </tr>\n",
              "  </thead>\n",
              "  <tbody>\n",
              "    <tr>\n",
              "      <th>0</th>\n",
              "      <td>139981</td>\n",
              "    </tr>\n",
              "    <tr>\n",
              "      <th>1</th>\n",
              "      <td>10027</td>\n",
              "    </tr>\n",
              "  </tbody>\n",
              "</table>\n",
              "</div><br><label><b>dtype:</b> int64</label>"
            ]
          },
          "metadata": {},
          "execution_count": 61
        }
      ]
    },
    {
      "cell_type": "markdown",
      "id": "sensitivity-specificity",
      "metadata": {
        "id": "sensitivity-specificity"
      },
      "source": [
        "### Sensitivity  and Specificity Calculations\n",
        "\n",
        "# accuracy\n",
        "accuracy = (TN+TP)/(TN+TP+FN+FP)\n",
        "means the propartion of customers where the model correctly predict whether or not they churned.\n",
        "\n",
        "\n",
        "# sensitivity(TP)\n",
        "sensitivity = TP/(TP+FN)\n",
        "means the propartion of customers who churned(y=1) where the model correctly predicted that they churned (true positive)\n",
        "\n",
        "# specificity(True negative)\n",
        "specificity = TN/(TN+FP)\n",
        "means the propartion of customers who didnt churned(y=0) where the model correctly predicted that they didnt churned (true negative)"
      ]
    },
    {
      "cell_type": "code",
      "execution_count": 62,
      "metadata": {
        "colab": {
          "base_uri": "https://localhost:8080/"
        },
        "id": "FGQAXlLGHhsi",
        "outputId": "6f72d90c-1083-4384-dc6d-55b6d9357a2f"
      },
      "outputs": [
        {
          "output_type": "stream",
          "name": "stdout",
          "text": [
            "0.995\n",
            "0.069\n",
            "0.996\n",
            "0.056\n"
          ]
        }
      ],
      "source": [
        "# Sensitivity and Specificity Calculations\n",
        "# Sensitivity on Train Data\n",
        "Sensitivity1 = cm1[0, 0] / (cm1[0, 0] + cm1[0, 1])\n",
        "print(round(Sensitivity1, 3))\n",
        "\n",
        "# Specificity on Train Data\n",
        "Specificity1 = cm1[1, 1] / (cm1[1, 0] + cm1[1, 1])\n",
        "print(round(Specificity1, 3))\n",
        "\n",
        "# Sensitivity on Test Data\n",
        "Sensitivity2 = cm2[0, 0] / (cm2[0, 0] + cm2[0, 1])\n",
        "print(round(Sensitivity2, 3))\n",
        "\n",
        "# Specificity on Test Data\n",
        "Specificity2 = cm2[1, 1] / (cm2[1, 0] + cm2[1, 1])\n",
        "print(round(Specificity2, 3))"
      ],
      "id": "FGQAXlLGHhsi"
    },
    {
      "cell_type": "markdown",
      "id": "roc-curve",
      "metadata": {
        "id": "roc-curve"
      },
      "source": [
        "### Probability predictions"
      ]
    },
    {
      "cell_type": "code",
      "source": [
        "y_pred_prob=model_2.predict_proba(X_train)\n",
        "print(y_pred_prob.shape)\n",
        "print(y_pred_prob)\n",
        "print(y_pred_prob[0,])\n",
        "print(y_pred_prob[0,0])\n",
        "print(y_pred_prob[0,1])\n",
        "print(y_pred_prob[0:5,1])\n",
        "print(y_pred_prob[:,1])"
      ],
      "metadata": {
        "colab": {
          "base_uri": "https://localhost:8080/"
        },
        "id": "PP5Q-YwXLNBc",
        "outputId": "b921dd6f-2b70-49bd-d4fe-969c9b683c29"
      },
      "id": "PP5Q-YwXLNBc",
      "execution_count": 63,
      "outputs": [
        {
          "output_type": "stream",
          "name": "stdout",
          "text": [
            "(120006, 2)\n",
            "[[0.96576371 0.03423629]\n",
            " [0.96317964 0.03682036]\n",
            " [0.78879951 0.21120049]\n",
            " ...\n",
            " [0.96293016 0.03706984]\n",
            " [0.82718326 0.17281674]\n",
            " [0.98500506 0.01499494]]\n",
            "[0.96576371 0.03423629]\n",
            "0.9657637141346676\n",
            "0.03423628586533246\n",
            "[0.03423629 0.03682036 0.21120049 0.0217956  0.04389173]\n",
            "[0.03423629 0.03682036 0.21120049 ... 0.03706984 0.17281674 0.01499494]\n"
          ]
        }
      ]
    },
    {
      "cell_type": "code",
      "source": [
        "y_pred_prob_1=y_pred_prob[:,1]"
      ],
      "metadata": {
        "id": "sc5RUK1cLM93"
      },
      "id": "sc5RUK1cLM93",
      "execution_count": 64,
      "outputs": []
    },
    {
      "cell_type": "code",
      "source": [
        "## Default Threshold 0.5\n",
        "threshold=0.5\n",
        "y_pred_class=y_pred_prob_1*0\n",
        "y_pred_class[y_pred_prob_1>threshold]=1\n",
        "print(y_pred_class)\n"
      ],
      "metadata": {
        "colab": {
          "base_uri": "https://localhost:8080/"
        },
        "id": "KkF_AzfcLM6r",
        "outputId": "81df4e17-04f4-4420-c1af-e80be5937083"
      },
      "id": "KkF_AzfcLM6r",
      "execution_count": 65,
      "outputs": [
        {
          "output_type": "stream",
          "name": "stdout",
          "text": [
            "[0. 0. 0. ... 0. 0. 0.]\n"
          ]
        }
      ]
    },
    {
      "cell_type": "code",
      "source": [
        "##Confusion Matrix and accuracy\n",
        "cm3 = confusion_matrix(y_train,y_pred_class)\n",
        "print(\"confusion Matrix with Threshold \",  threshold,  \"\\n\",cm3)\n",
        "accuracy3=(cm3[0,0]+cm3[1,1])/(cm3[0,0]+cm3[0,1]+cm3[1,0]+cm3[1,1])\n",
        "print(\"Accuracy is \", round(accuracy3,3))"
      ],
      "metadata": {
        "colab": {
          "base_uri": "https://localhost:8080/"
        },
        "id": "VWz8BBNYLM0w",
        "outputId": "002d6085-3fa1-4864-c558-b3c1226d7ec2"
      },
      "id": "VWz8BBNYLM0w",
      "execution_count": 66,
      "outputs": [
        {
          "output_type": "stream",
          "name": "stdout",
          "text": [
            "confusion Matrix with Threshold  0.5 \n",
            " [[111369    545]\n",
            " [  7531    561]]\n",
            "Accuracy is  0.933\n"
          ]
        }
      ]
    },
    {
      "cell_type": "code",
      "source": [
        "##Sensitivity and Specificity on Train data\n",
        "Sensitivity3=cm3[0,0]/(cm3[0,0]+cm3[0,1])\n",
        "print(\"Sensitivity is\", round(Sensitivity3,3))\n",
        "\n",
        "Specificity3=cm3[1,1]/(cm3[1,0]+cm3[1,1])\n",
        "print(\"Specificity is \", round(Specificity3,3))"
      ],
      "metadata": {
        "colab": {
          "base_uri": "https://localhost:8080/"
        },
        "id": "dpFVRZkcLMpY",
        "outputId": "58ae5887-53d2-48ce-8994-7879fb2c065e"
      },
      "id": "dpFVRZkcLMpY",
      "execution_count": 67,
      "outputs": [
        {
          "output_type": "stream",
          "name": "stdout",
          "text": [
            "Sensitivity is 0.995\n",
            "Specificity is  0.069\n"
          ]
        }
      ]
    },
    {
      "cell_type": "code",
      "source": [
        "## New Threshold 0.1\n",
        "threshold=0.1\n",
        "y_pred_class=y_pred_prob_1*0\n",
        "y_pred_class[y_pred_prob_1>threshold]=1"
      ],
      "metadata": {
        "id": "FAt57gZZLj1W"
      },
      "id": "FAt57gZZLj1W",
      "execution_count": 68,
      "outputs": []
    },
    {
      "cell_type": "code",
      "source": [
        "##Confusion Matrix and accuracy\n",
        "cm3 = confusion_matrix(y_train,y_pred_class)\n",
        "print(\"confusion Matrix with Threshold \",  threshold,  \"\\n\",cm3)\n",
        "accuracy3=(cm3[0,0]+cm3[1,1])/(cm3[0,0]+cm3[0,1]+cm3[1,0]+cm3[1,1])\n",
        "print(\"Accuracy is \", round(accuracy3,3))\n"
      ],
      "metadata": {
        "colab": {
          "base_uri": "https://localhost:8080/"
        },
        "id": "wRR3e514L1_W",
        "outputId": "c3264391-2ad8-48de-f386-51822626b65c"
      },
      "id": "wRR3e514L1_W",
      "execution_count": 69,
      "outputs": [
        {
          "output_type": "stream",
          "name": "stdout",
          "text": [
            "confusion Matrix with Threshold  0.1 \n",
            " [[94094 17820]\n",
            " [ 3305  4787]]\n",
            "Accuracy is  0.824\n"
          ]
        }
      ]
    },
    {
      "cell_type": "code",
      "source": [
        "##Sensitivity and Specificity on Train data\n",
        "Sensitivity3=cm3[0,0]/(cm3[0,0]+cm3[0,1])\n",
        "print(\"Sensitivity is\", round(Sensitivity3,3))\n",
        "\n",
        "Specificity3=cm3[1,1]/(cm3[1,0]+cm3[1,1])\n",
        "print(\"Specificity is \", round(Specificity3,3))"
      ],
      "metadata": {
        "colab": {
          "base_uri": "https://localhost:8080/"
        },
        "id": "LUi1Sc88L4aa",
        "outputId": "9c02e820-9f9f-4600-b05a-b03b44dfa732"
      },
      "id": "LUi1Sc88L4aa",
      "execution_count": 70,
      "outputs": [
        {
          "output_type": "stream",
          "name": "stdout",
          "text": [
            "Sensitivity is 0.841\n",
            "Specificity is  0.592\n"
          ]
        }
      ]
    },
    {
      "cell_type": "markdown",
      "source": [
        "## ROC Curve Creation"
      ],
      "metadata": {
        "id": "w5X2aDbrMJKm"
      },
      "id": "w5X2aDbrMJKm"
    },
    {
      "cell_type": "code",
      "source": [
        "## New Threshold 0.1\n",
        "threshold=0.01\n",
        "y_pred_class=y_pred_prob_1*0\n",
        "y_pred_class[y_pred_prob_1>threshold]=1\n",
        "\n",
        "##Confusion Matrix and accuracy\n",
        "cm3 = confusion_matrix(y_train,y_pred_class)\n",
        "print(\"confusion Matrix with Threshold \",  threshold,  \"\\n\",cm3)\n",
        "accuracy3=(cm3[0,0]+cm3[1,1])/(cm3[0,0]+cm3[0,1]+cm3[1,0]+cm3[1,1])\n",
        "print(\"Accuracy is \", round(accuracy3,3))\n",
        "\n",
        "##Sensitivity and Specificity on Train data\n",
        "Sensitivity3=cm3[0,0]/(cm3[0,0]+cm3[0,1])\n",
        "print(\"Sensitivity is\", round(Sensitivity3,3))\n",
        "\n",
        "Specificity3=cm3[1,1]/(cm3[1,0]+cm3[1,1])\n",
        "print(\"Specificity is \", round(Specificity3,3))"
      ],
      "metadata": {
        "colab": {
          "base_uri": "https://localhost:8080/"
        },
        "id": "SWuoAuypL7sC",
        "outputId": "f0edf990-78fa-472c-f6d6-46550e1a4d67"
      },
      "id": "SWuoAuypL7sC",
      "execution_count": 71,
      "outputs": [
        {
          "output_type": "stream",
          "name": "stdout",
          "text": [
            "confusion Matrix with Threshold  0.01 \n",
            " [[  1313 110601]\n",
            " [    17   8075]]\n",
            "Accuracy is  0.078\n",
            "Sensitivity is 0.012\n",
            "Specificity is  0.998\n"
          ]
        }
      ]
    },
    {
      "cell_type": "code",
      "execution_count": 72,
      "metadata": {
        "colab": {
          "base_uri": "https://localhost:8080/",
          "height": 734
        },
        "id": "yzupHNcPHhsi",
        "outputId": "d751d6a2-f797-4a36-9823-49b8c82a6e5f"
      },
      "outputs": [
        {
          "output_type": "display_data",
          "data": {
            "text/plain": [
              "<Figure size 1000x1000 with 1 Axes>"
            ],
            "image/png": "[encoded data removed]"
          },
          "metadata": {}
        }
      ],
      "source": [
        "# ROC Curve Creation\n",
        "from sklearn.metrics import roc_curve, auc\n",
        "\n",
        "false_positive_rate, true_positive_rate, thresholds = roc_curve(y_train, y_pred_prob_1)\n",
        "plt.figure(figsize=(10, 10))\n",
        "plt.title('ROC Curve', fontsize=15)\n",
        "plt.plot(false_positive_rate, true_positive_rate)\n",
        "plt.plot([0, 1], [0, 1], 'r--')\n",
        "plt.ylabel('True Positive Rate (Sensitivity)', fontsize=15)\n",
        "plt.xlabel('False Positive Rate (1 - Specificity)', fontsize=15)\n",
        "plt.show()"
      ],
      "id": "yzupHNcPHhsi"
    },
    {
      "cell_type": "markdown",
      "id": "auc-value",
      "metadata": {
        "id": "auc-value"
      },
      "source": [
        "### Area Under Curve (AUC) Value"
      ]
    },
    {
      "cell_type": "code",
      "execution_count": 73,
      "metadata": {
        "colab": {
          "base_uri": "https://localhost:8080/"
        },
        "id": "U8jx7NRIHhsj",
        "outputId": "144098b0-fe07-49cd-97ec-f4b2daa36564"
      },
      "outputs": [
        {
          "output_type": "stream",
          "name": "stdout",
          "text": [
            "0.8098741858851419\n"
          ]
        }
      ],
      "source": [
        "# Area under Curve (AUC)\n",
        "auc_value = auc(false_positive_rate, true_positive_rate)\n",
        "print(auc_value)"
      ],
      "id": "U8jx7NRIHhsj"
    },
    {
      "cell_type": "code",
      "source": [
        "##F1 Score\n",
        "from sklearn.metrics import f1_score\n",
        "\n",
        "## Threshold 0.5\n",
        "threshold=0.5\n",
        "y_pred_class=y_pred_prob_1*0\n",
        "y_pred_class[y_pred_prob_1>threshold]=1\n",
        "print(\"threshold=0.5 f1_score \",f1_score(y_train, y_pred_class))"
      ],
      "metadata": {
        "colab": {
          "base_uri": "https://localhost:8080/"
        },
        "id": "jqw9ksCuXXz-",
        "outputId": "7422f4ff-18e4-4e05-b015-afaec87e6ecc"
      },
      "id": "jqw9ksCuXXz-",
      "execution_count": 74,
      "outputs": [
        {
          "output_type": "stream",
          "name": "stdout",
          "text": [
            "threshold=0.5 f1_score  0.12198303979125896\n"
          ]
        }
      ]
    },
    {
      "cell_type": "code",
      "source": [
        "## Threshold 0.2\n",
        "threshold=0.2\n",
        "y_pred_class=y_pred_prob_1*0\n",
        "y_pred_class[y_pred_prob_1>threshold]=1\n",
        "print(\"threshold=0.2 f1_score \",f1_score(y_train, y_pred_class))"
      ],
      "metadata": {
        "colab": {
          "base_uri": "https://localhost:8080/"
        },
        "id": "4qVxW_oYXadq",
        "outputId": "cb76d585-cc80-4c56-ce06-12aee8ed6be8"
      },
      "id": "4qVxW_oYXadq",
      "execution_count": 75,
      "outputs": [
        {
          "output_type": "stream",
          "name": "stdout",
          "text": [
            "threshold=0.2 f1_score  0.3038844963905122\n"
          ]
        }
      ]
    },
    {
      "cell_type": "markdown",
      "id": "cross-validation",
      "metadata": {
        "id": "cross-validation"
      },
      "source": [
        "## Cross-Validation"
      ]
    },
    {
      "cell_type": "code",
      "execution_count": 76,
      "metadata": {
        "id": "3cIzswJhHhsj"
      },
      "outputs": [],
      "source": [
        "import numpy as np\n",
        "import pandas as pd\n",
        "import matplotlib.pyplot as plt\n",
        "import math\n",
        "from sklearn.linear_model import LinearRegression\n",
        "from sklearn.metrics import r2_score\n",
        "from sklearn import linear_model\n",
        "from sklearn.model_selection import train_test_split\n",
        "from sklearn.metrics import explained_variance_score\n",
        "import statsmodels.api as sm\n",
        "from matplotlib.pyplot import plot\n",
        "pd.set_option('display.max_columns', None)"
      ],
      "id": "3cIzswJhHhsj"
    },
    {
      "cell_type": "code",
      "execution_count": 79,
      "id": "load-diabetes-data",
      "metadata": {
        "colab": {
          "base_uri": "https://localhost:8080/"
        },
        "id": "load-diabetes-data",
        "outputId": "67d4f5de-6e4a-4614-bb92-bdd1d489b02c"
      },
      "outputs": [
        {
          "output_type": "stream",
          "name": "stdout",
          "text": [
            "(768, 9)\n",
            "Index(['Pregnancies', 'Glucose', 'BloodPressure', 'SkinThickness', 'Insulin',\n",
            "       'BMI', 'DiabetesPedigreeFunction', 'Age', 'Outcome'],\n",
            "      dtype='object')\n",
            "Pregnancies                   int64\n",
            "Glucose                       int64\n",
            "BloodPressure                 int64\n",
            "SkinThickness                 int64\n",
            "Insulin                       int64\n",
            "BMI                         float64\n",
            "DiabetesPedigreeFunction    float64\n",
            "Age                           int64\n",
            "Outcome                       int64\n",
            "dtype: object\n",
            "<class 'pandas.core.frame.DataFrame'>\n",
            "RangeIndex: 768 entries, 0 to 767\n",
            "Data columns (total 9 columns):\n",
            " #   Column                    Non-Null Count  Dtype  \n",
            "---  ------                    --------------  -----  \n",
            " 0   Pregnancies               768 non-null    int64  \n",
            " 1   Glucose                   768 non-null    int64  \n",
            " 2   BloodPressure             768 non-null    int64  \n",
            " 3   SkinThickness             768 non-null    int64  \n",
            " 4   Insulin                   768 non-null    int64  \n",
            " 5   BMI                       768 non-null    float64\n",
            " 6   DiabetesPedigreeFunction  768 non-null    float64\n",
            " 7   Age                       768 non-null    int64  \n",
            " 8   Outcome                   768 non-null    int64  \n",
            "dtypes: float64(2), int64(7)\n",
            "memory usage: 54.1 KB\n",
            "       Pregnancies  Glucose  BloodPressure  SkinThickness  Insulin     BMI  \\\n",
            "count       768.00   768.00         768.00         768.00   768.00  768.00   \n",
            "mean          3.85   120.89          69.11          20.54    79.80   31.99   \n",
            "std           3.37    31.97          19.36          15.95   115.24    7.88   \n",
            "min           0.00     0.00           0.00           0.00     0.00    0.00   \n",
            "25%           1.00    99.00          62.00           0.00     0.00   27.30   \n",
            "50%           3.00   117.00          72.00          23.00    30.50   32.00   \n",
            "75%           6.00   140.25          80.00          32.00   127.25   36.60   \n",
            "max          17.00   199.00         122.00          99.00   846.00   67.10   \n",
            "\n",
            "       DiabetesPedigreeFunction     Age  Outcome  \n",
            "count                    768.00  768.00   768.00  \n",
            "mean                       0.47   33.24     0.35  \n",
            "std                        0.33   11.76     0.48  \n",
            "min                        0.08   21.00     0.00  \n",
            "25%                        0.24   24.00     0.00  \n",
            "50%                        0.37   29.00     0.00  \n",
            "75%                        0.63   41.00     1.00  \n",
            "max                        2.42   81.00     1.00  \n"
          ]
        }
      ],
      "source": [
        "### Test Data Cross-Validation\n",
        "\n",
        "diabetes_data = pd.read_csv('https://raw.githubusercontent.com/mizzony/ML-class/refs/heads/main/diabetes.csv')\n",
        "\n",
        "# Get an idea on number of rows and columns\n",
        "print(diabetes_data.shape)\n",
        "\n",
        "# Print the column names\n",
        "print(diabetes_data.columns)\n",
        "\n",
        "# Print the column types\n",
        "print(diabetes_data.dtypes)\n",
        "\n",
        "# Additional Details\n",
        "diabetes_data.info()\n",
        "\n",
        "# Summary\n",
        "all_cols_summary = diabetes_data.describe()\n",
        "print(round(all_cols_summary, 2))"
      ]
    },
    {
      "cell_type": "markdown",
      "id": "define-diabetes-data",
      "metadata": {
        "id": "define-diabetes-data"
      },
      "source": [
        "### Defining X and y Data for Diabetes"
      ]
    },
    {
      "cell_type": "code",
      "execution_count": 80,
      "id": "define-xy-diabetes",
      "metadata": {
        "id": "define-xy-diabetes"
      },
      "outputs": [],
      "source": [
        "# Defining X and y data\n",
        "X = diabetes_data[['Pregnancies', 'Glucose', 'BloodPressure', 'SkinThickness', 'Insulin', 'BMI', 'DiabetesPedigreeFunction', 'Age']]\n",
        "y = diabetes_data[['Outcome']]"
      ]
    },
    {
      "cell_type": "markdown",
      "id": "split-diabetes-data",
      "metadata": {
        "id": "split-diabetes-data"
      },
      "source": [
        "### Splitting Diabetes Dataset"
      ]
    },
    {
      "cell_type": "code",
      "execution_count": 81,
      "id": "split-diabetes-dataset",
      "metadata": {
        "colab": {
          "base_uri": "https://localhost:8080/"
        },
        "id": "split-diabetes-dataset",
        "outputId": "07f0d2d9-1676-48d8-d551-bb3e032d3dc5"
      },
      "outputs": [
        {
          "output_type": "stream",
          "name": "stdout",
          "text": [
            "(614, 8)\n",
            "(614, 1)\n",
            "(154, 8)\n",
            "(154, 1)\n"
          ]
        }
      ],
      "source": [
        "# Train and Test data creation\n",
        "X_train, X_test, y_train, y_test = train_test_split(X, y, test_size=0.2, random_state=33)\n",
        "\n",
        "print(X_train.shape)\n",
        "print(y_train.shape)\n",
        "print(X_test.shape)\n",
        "print(y_test.shape)"
      ]
    },
    {
      "cell_type": "markdown",
      "id": "decision-tree-model",
      "metadata": {
        "id": "decision-tree-model"
      },
      "source": [
        "### Building the Decision Tree Model for Diabetes Data"
      ]
    },
    {
      "cell_type": "code",
      "execution_count": 90,
      "id": "decision-tree-diabetes",
      "metadata": {
        "colab": {
          "base_uri": "https://localhost:8080/"
        },
        "id": "decision-tree-diabetes",
        "outputId": "6490096b-f090-444a-fcd6-801736dc584b"
      },
      "outputs": [
        {
          "output_type": "stream",
          "name": "stdout",
          "text": [
            "Max Depth = None\n",
            "Train data Accuracy 1.0\n",
            "Test data Accuracy 0.670995670995671\n"
          ]
        }
      ],
      "source": [
        "# Model Building\n",
        "from sklearn.tree import DecisionTreeClassifier\n",
        "diabetes_tree1 = DecisionTreeClassifier()\n",
        "diabetes_tree1.fit(X_train, y_train)\n",
        "\n",
        "# Calculate Accuracy on Train and Test data\n",
        "print(\"Max Depth = None\")\n",
        "print(\"Train data Accuracy\", diabetes_tree1.score(X_train, y_train))\n",
        "print(\"Test data Accuracy\", diabetes_tree1.score(X_test, y_test))"
      ]
    },
    {
      "cell_type": "markdown",
      "id": "decision-tree-pruning",
      "metadata": {
        "id": "decision-tree-pruning"
      },
      "source": [
        "### Decision Tree Model with Pruning Parameters"
      ]
    },
    {
      "cell_type": "code",
      "execution_count": 91,
      "metadata": {
        "colab": {
          "base_uri": "https://localhost:8080/"
        },
        "id": "sOXVSWDoHhsn",
        "outputId": "5a401d77-cc1b-4404-879e-ced8b628db6b"
      },
      "outputs": [
        {
          "output_type": "stream",
          "name": "stdout",
          "text": [
            "Max Depth = 1\n",
            "Train data Accuracy 0.7411545623836127\n",
            "Test data Accuracy 0.7229437229437229\n",
            "Max Depth = 5\n",
            "Train data Accuracy 0.8528864059590316\n",
            "Test data Accuracy 0.7229437229437229\n",
            "Max Depth = 3\n",
            "Train data Accuracy 0.7746741154562383\n",
            "Test data Accuracy 0.7532467532467533\n",
            "Max Depth = 2\n",
            "Train data Accuracy 0.74487895716946\n",
            "Test data Accuracy 0.7532467532467533\n"
          ]
        }
      ],
      "source": [
        "# Model Building with Pruning Parameters\n",
        "for depth in [1, 5, 3, 2]:\n",
        "    print(f\"Max Depth = {depth}\")\n",
        "    diabetes_tree1 = DecisionTreeClassifier(max_depth=depth)\n",
        "    diabetes_tree1.fit(X_train, y_train)\n",
        "    # Calculate Accuracy on Train and Test data\n",
        "    print(\"Train data Accuracy\", diabetes_tree1.score(X_train, y_train))\n",
        "    print(\"Test data Accuracy\", diabetes_tree1.score(X_test, y_test))"
      ],
      "id": "sOXVSWDoHhsn"
    },
    {
      "cell_type": "markdown",
      "id": "kfold-cross-validation",
      "metadata": {
        "id": "kfold-cross-validation"
      },
      "source": [
        "### K-Fold Cross-Validation"
      ]
    },
    {
      "cell_type": "code",
      "execution_count": 94,
      "id": "kfold-diabetes",
      "metadata": {
        "colab": {
          "base_uri": "https://localhost:8080/"
        },
        "id": "kfold-diabetes",
        "outputId": "9736f409-e1c1-4ebf-de93-1763ec70461e"
      },
      "outputs": [
        {
          "output_type": "stream",
          "name": "stdout",
          "text": [
            "[0.67532468 0.77922078 0.7012987  0.64935065 0.77922078 0.81818182\n",
            " 0.83116883 0.83116883 0.67105263 0.71052632]\n",
            "0.7446514012303486\n"
          ]
        }
      ],
      "source": [
        "# K-Fold Cross-Validation because above n=model with maxdept 3  has best model\n",
        "diabetes_tree_KF = DecisionTreeClassifier(max_depth=3)\n",
        "from sklearn.model_selection import KFold\n",
        "kfold = KFold(n_splits=10)\n",
        "\n",
        "# Checking the accuracy of model on 10-folds\n",
        "acc10 = model_selection.cross_val_score(diabetes_tree_KF, X, y, cv=kfold)\n",
        "print(acc10)\n",
        "print(acc10.mean())"
      ]
    },
    {
      "cell_type": "markdown",
      "id": "train-validation-holdout",
      "metadata": {
        "id": "train-validation-holdout"
      },
      "source": [
        "### Train – Validation – Holdout Cross-Validation"
      ]
    },
    {
      "cell_type": "code",
      "execution_count": 86,
      "id": "train-validation-holdout-diabetes",
      "metadata": {
        "colab": {
          "base_uri": "https://localhost:8080/"
        },
        "id": "train-validation-holdout-diabetes",
        "outputId": "eb89bef8-7a20-428d-9daf-a27babebad2e"
      },
      "outputs": [
        {
          "output_type": "stream",
          "name": "stdout",
          "text": [
            "(537, 8)\n",
            "(537, 1)\n",
            "(115, 8)\n",
            "(115, 1)\n",
            "(116, 8)\n",
            "(116, 1)\n"
          ]
        }
      ],
      "source": [
        "# Train – Validation – Holdout Cross-Validation\n",
        "X_train, X_test, y_train, y_test = model_selection.train_test_split(X, y, test_size=0.3, random_state=99)\n",
        "\n",
        "# Split Test data into Validation and Holdout data split\n",
        "X_val, X_hold, y_val, y_hold = model_selection.train_test_split(X_test, y_test, test_size=0.5, random_state=11)\n",
        "\n",
        "print(X_train.shape)\n",
        "print(y_train.shape)\n",
        "print(X_val.shape)\n",
        "print(y_val.shape)\n",
        "print(X_hold.shape)\n",
        "print(y_hold.shape)"
      ]
    },
    {
      "cell_type": "markdown",
      "source": [
        "**Cross-validation** and **hold-out validation** are two techniques for assessing the performance of machine learning models. While both serve the same purpose—validating a model's performance on unseen data—there are key differences between them, and they are suited to different scenarios.\n",
        "\n",
        "### **1. Hold-out Validation**\n",
        "\n",
        "In **hold-out validation**, the dataset is split into two (or sometimes three) parts:\n",
        "   - **Training Set**: Used to train the model.\n",
        "   - **Test Set**: Used to evaluate the model's performance.\n",
        "   - (Optional: **Validation Set**: In some cases, a third set is used to tune hyperparameters, especially in deep learning.)\n",
        "\n",
        "#### **How it Works**:\n",
        "- A common split is 80% for training and 20% for testing (or 70/30).\n",
        "- You train the model on the training set and evaluate its performance on the test set.\n",
        "  \n",
        "#### **When to Use Hold-out Validation**:\n",
        "- **Large Datasets**: When you have a lot of data, splitting it into training and test sets is often sufficient because the model will have enough examples to learn and generalize.\n",
        "- **Quick Model Evaluation**: It is faster because you only split the data once, train the model, and evaluate it.\n",
        "- **Early Stage Development**: When you’re in the early stages of model development and just want a rough idea of performance.\n",
        "\n",
        "#### **Disadvantages**:\n",
        "- **High Variance**: The results can depend heavily on how the data is split. If the split is not representative of the overall dataset, the test accuracy may not generalize well to unseen data.\n",
        "- **Not suitable for small datasets**: With small datasets, hold-out validation can be problematic because the model may not have enough data to learn effectively, or the test set may not represent the true distribution of data.\n",
        "\n",
        "---\n",
        "\n",
        "### **2. Cross-validation**\n",
        "\n",
        "In **cross-validation**, the dataset is split into multiple smaller subsets or \"folds\". The model is trained and evaluated multiple times by rotating through the folds.\n",
        "   - **K-Fold Cross-Validation** is the most common method, where the data is split into **K** equal parts (folds). The model is trained on **K-1** folds and tested on the remaining fold. This process is repeated **K** times, and the final performance is averaged over all runs.\n",
        "\n",
        "#### **How it Works**:\n",
        "- For example, in **5-Fold Cross-Validation**, the data is split into 5 parts:\n",
        "  1. Train on folds 1-4, test on fold 5.\n",
        "  2. Train on folds 1-3 and 5, test on fold 4.\n",
        "  3. Repeat for all folds.\n",
        "  \n",
        "- The results are averaged to provide a more stable estimate of the model's performance.\n",
        "\n",
        "#### **When to Use Cross-validation**:\n",
        "- **Small to Medium Datasets**: When you have limited data, cross-validation makes the most of it by training and testing on multiple subsets, giving you a better estimate of model performance.\n",
        "- **Model Selection and Tuning**: Cross-validation is very useful when selecting the best model or tuning hyperparameters because it gives you a more reliable performance estimate than hold-out validation.\n",
        "- **Avoid Overfitting**: Cross-validation helps avoid overfitting since the model is tested on different portions of the data each time, reducing the chance of the model just learning the quirks of a particular test set.\n",
        "\n",
        "#### **Disadvantages**:\n",
        "- **Computational Cost**: Cross-validation is more computationally expensive because the model is trained multiple times (once for each fold).\n",
        "- **Time-Consuming**: If the model takes a long time to train, cross-validation can be very slow.\n",
        "\n",
        "---\n",
        "\n",
        "### **Key Differences**:\n",
        "\n",
        "| Feature                      | Hold-out Validation                       | Cross-validation                    |\n",
        "|------------------------------|-------------------------------------------|-------------------------------------|\n",
        "| **Data Split**                | Single split (e.g., 80% train, 20% test)  | Multiple splits (e.g., 5 or 10 folds) |\n",
        "| **Training**                  | Model trained once                       | Model trained multiple times (K times) |\n",
        "| **Evaluation Stability**      | Results can vary depending on the split   | More reliable, stable performance estimates |\n",
        "| **Computational Cost**        | Faster, less computation required         | More computationally expensive, slower |\n",
        "| **Suitability for Small Data**| Not ideal (may lead to biased results)    | Well-suited, maximizes use of available data |\n",
        "| **Risk of Overfitting**       | Higher risk of overfitting to the test set| Lower risk due to multiple test sets |\n",
        "| **Use Case**                  | Large datasets, quick evaluation         | Small/medium datasets, model tuning, or more rigorous evaluation |\n",
        "\n",
        "---\n",
        "\n",
        "### **When to Use Which**:\n",
        "- **Use Hold-out Validation** when:\n",
        "  - You have a large dataset.\n",
        "  - You need a quick evaluation of a model’s performance.\n",
        "  - You’re in the early stages of development and don’t need fine-tuned models yet.\n",
        "\n",
        "- **Use Cross-validation** when:\n",
        "  - You have a small to medium-sized dataset, and it’s important to make the most of the available data.\n",
        "  - You’re comparing multiple models or tuning hyperparameters.\n",
        "  - You need a reliable estimate of model performance across different data splits.\n",
        "  - You want to minimize overfitting and maximize generalizability.\n",
        "\n",
        "In summary, cross-validation gives you more stable and reliable results, especially for smaller datasets, while hold-out validation is quicker but riskier in terms of variance and overfitting.\n"
      ],
      "metadata": {
        "id": "-W--s_S6eOx7"
      },
      "id": "-W--s_S6eOx7"
    },
    {
      "cell_type": "markdown",
      "id": "decision-tree-holdout",
      "metadata": {
        "id": "decision-tree-holdout"
      },
      "source": [
        "### Model Building with Pruning Parameters and Holdout Cross-Validation"
      ]
    },
    {
      "cell_type": "code",
      "execution_count": 95,
      "id": "holdout-diabetes",
      "metadata": {
        "colab": {
          "base_uri": "https://localhost:8080/"
        },
        "id": "holdout-diabetes",
        "outputId": "84f01346-7836-4a0a-fef7-ef255c44ad5a"
      },
      "outputs": [
        {
          "output_type": "stream",
          "name": "stdout",
          "text": [
            "Max Depth = 6\n",
            "Train data Accuracy 0.8975791433891993\n",
            "Validation data Accuracy 0.6956521739130435\n",
            "Max Depth = 1\n",
            "Train data Accuracy 0.7411545623836127\n",
            "Validation data Accuracy 0.6869565217391305\n",
            "Max Depth = 3\n",
            "Train data Accuracy 0.7746741154562383\n",
            "Validation data Accuracy 0.7304347826086957\n"
          ]
        }
      ],
      "source": [
        "# Model Building with Pruning Parameters and Accuracy Evaluation\n",
        "for depth in [6, 1, 3]:\n",
        "    print(f\"Max Depth = {depth}\")\n",
        "    diabetes_tree1 = DecisionTreeClassifier(max_depth=depth)\n",
        "    diabetes_tree1.fit(X_train, y_train)\n",
        "    # Calculate Accuracy on Train, Validation data\n",
        "    print(\"Train data Accuracy\", diabetes_tree1.score(X_train, y_train))\n",
        "    print(\"Validation data Accuracy\", diabetes_tree1.score(X_val, y_val))"
      ]
    },
    {
      "cell_type": "markdown",
      "id": "final-model-result",
      "metadata": {
        "id": "final-model-result"
      },
      "source": [
        "### Final Model and Result on Holdout Data"
      ]
    },
    {
      "cell_type": "code",
      "execution_count": 96,
      "id": "final-model-diabetes",
      "metadata": {
        "colab": {
          "base_uri": "https://localhost:8080/"
        },
        "id": "final-model-diabetes",
        "outputId": "0868860a-0cee-4f2f-e20a-093cdedfb2a1"
      },
      "outputs": [
        {
          "output_type": "stream",
          "name": "stdout",
          "text": [
            "Max Depth 3\n",
            "Train data Accuracy 0.7746741154562383\n",
            "Validation data Accuracy 0.7304347826086957\n",
            "Holdout data Accuracy 0.7758620689655172\n"
          ]
        }
      ],
      "source": [
        "# Final Model Result\n",
        "print(\"Max Depth 3\")\n",
        "print(\"Train data Accuracy\", diabetes_tree1.score(X_train, y_train))\n",
        "print(\"Validation data Accuracy\", diabetes_tree1.score(X_val, y_val))\n",
        "print(\"Holdout data Accuracy\", diabetes_tree1.score(X_hold, y_hold))"
      ]
    },
    {
      "cell_type": "markdown",
      "id": "grid-search",
      "metadata": {
        "id": "grid-search"
      },
      "source": [
        "### Grid Search for Best Parameters"
      ]
    },
    {
      "cell_type": "code",
      "execution_count": 97,
      "id": "grid-search-diabetes",
      "metadata": {
        "colab": {
          "base_uri": "https://localhost:8080/"
        },
        "id": "grid-search-diabetes",
        "outputId": "72343cae-ce08-49a2-c2ed-49f72b48242e"
      },
      "outputs": [
        {
          "output_type": "stream",
          "name": "stdout",
          "text": [
            "0.75969193492558\n",
            "{'max_depth': 5, 'max_leaf_nodes': 8}\n",
            "DecisionTreeClassifier(max_depth=5, max_leaf_nodes=8)\n",
            "Train data Accuracy 0.8026070763500931\n",
            "Validation data Accuracy 0.7217391304347827\n"
          ]
        }
      ],
      "source": [
        "# Grid Search\n",
        "from sklearn.model_selection import GridSearchCV\n",
        "grid_param = {'max_depth': range(1, 10, 1), 'max_leaf_nodes': range(2, 30, 1)}\n",
        "clf_tree = DecisionTreeClassifier()\n",
        "clf = GridSearchCV(clf_tree, grid_param)\n",
        "clf.fit(X_train, y_train)\n",
        "\n",
        "# Examine the best model\n",
        "print(clf.best_score_)\n",
        "print(clf.best_params_)\n",
        "print(clf.best_estimator_)\n",
        "\n",
        "grid_result_tree = clf.best_estimator_\n",
        "print(\"Train data Accuracy\", grid_result_tree.score(X_train, y_train))\n",
        "print(\"Validation data Accuracy\", grid_result_tree.score(X_val, y_val))"
      ]
    },
    {
      "cell_type": "markdown",
      "source": [
        "\n",
        "Grid Search is a technique used to find the optimal hyperparameters for a machine learning model. It's a brute-force method where you define a set of possible values (a \"grid\") for each hyperparameter, and the algorithm evaluates every possible combination of these hyperparameters to find the best one according to a predefined performance metric (such as accuracy, precision, or AUC).\n",
        "ow Grid Search Works:\n",
        "Hyperparameter Grid: You define the hyperparameters to tune and the values to try for each one. For example, for a Random Forest, you might tune:\n",
        "\n",
        "n_estimators (number of trees),\n",
        "max_depth (maximum depth of each tree),\n",
        "min_samples_split (minimum samples required to split a node).\n",
        "Model Training and Evaluation: Grid Search systematically tries each combination of hyperparameters, trains the model on the training data, and evaluates it using cross-validation or on a validation set. This is repeated for each combination.\n",
        "\n",
        "Optimal Combination: After trying all combinations, the one that results in the best performance on the validation data is selected as the optimal set of hyperparameters.\n",
        "\n",
        "\n",
        "In summary, Grid Search is a comprehensive and thorough method for hyperparameter tuning but can be computationally expensive. When tuning large models or when facing constraints on computational resources, Randomized Search can be a more efficient alternative."
      ],
      "metadata": {
        "id": "w96fpryXe2Mh"
      },
      "id": "w96fpryXe2Mh"
    }
  ],
  "metadata": {
    "kernelspec": {
      "display_name": "Python 3",
      "language": "python",
      "name": "python3"
    },
    "language_info": {
      "codemirror_mode": {
        "name": "ipython",
        "version": 3
      },
      "file_extension": ".py",
      "mimetype": "text/x-python",
      "name": "python",
      "nbconvert_exporter": "python",
      "version": "3.9.7"
    },
    "colab": {
      "provenance": [],
      "collapsed_sections": [
        "6aX-0PRFHhsP",
        "credit-risk-data",
        "w5X2aDbrMJKm",
        "cross-validation"
      ],
      "include_colab_link": true
    }
  },
  "nbformat": 4,
  "nbformat_minor": 5
}